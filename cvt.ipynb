{
 "cells": [
  {
   "cell_type": "markdown",
   "metadata": {},
   "source": [
    "https://gist.github.com/radcli14/1e5923cc3927debc755aada7f40eb22c\n",
    "\n",
    "https://moorepants.github.io/learn-multibody-dynamics/configuration.html#calculating-additional-kinematic-quantities"
   ]
  },
  {
   "cell_type": "code",
   "execution_count": 413,
   "metadata": {},
   "outputs": [],
   "source": [
    "import sympy as sp\n",
    "import sympy.physics.mechanics as me\n",
    "\n",
    "# sp.init_printing(use_latex='mathjax')\n",
    "# me.init_vprinting()\n",
    "me.mechanics_printing()"
   ]
  },
  {
   "cell_type": "code",
   "execution_count": 414,
   "metadata": {},
   "outputs": [
    {
     "name": "stderr",
     "output_type": "stream",
     "text": [
      "<>:8: SyntaxWarning:\n",
      "\n",
      "invalid escape sequence '\\,'\n",
      "\n",
      "<>:11: SyntaxWarning:\n",
      "\n",
      "invalid escape sequence '\\,'\n",
      "\n",
      "<>:8: SyntaxWarning:\n",
      "\n",
      "invalid escape sequence '\\,'\n",
      "\n",
      "<>:11: SyntaxWarning:\n",
      "\n",
      "invalid escape sequence '\\,'\n",
      "\n",
      "C:\\Users\\phcre\\AppData\\Local\\Temp\\ipykernel_25304\\3903178680.py:8: SyntaxWarning:\n",
      "\n",
      "invalid escape sequence '\\,'\n",
      "\n",
      "C:\\Users\\phcre\\AppData\\Local\\Temp\\ipykernel_25304\\3903178680.py:11: SyntaxWarning:\n",
      "\n",
      "invalid escape sequence '\\,'\n",
      "\n"
     ]
    }
   ],
   "source": [
    "from IPython.display import display, Latex\n",
    "\n",
    "def dtex(*args):\n",
    "    tex = ''\n",
    "    for arg in args:\n",
    "        if isinstance(arg, str):\n",
    "            # Handle string arguments\n",
    "            tex += f'${arg}$ $\\, = \\,$ '\n",
    "        else:\n",
    "            # Handle SymPy arguments\n",
    "            tex += f'${me.mlatex(arg)}$ $\\, = \\,$ '\n",
    "    \n",
    "    # Trim off the last equals sign\n",
    "    tex = tex[:-10]  \n",
    "    display(Latex(tex))"
   ]
  },
  {
   "cell_type": "code",
   "execution_count": 415,
   "metadata": {},
   "outputs": [
    {
     "data": {
      "text/latex": [
       "$\\displaystyle \\left( \\mathbf{\\hat{n}_x}, \\  \\mathbf{\\hat{n}_y}, \\  \\mathbf{\\hat{n}_z}\\right)$"
      ],
      "text/plain": [
       "(n_x, n_y, n_z)"
      ]
     },
     "execution_count": 415,
     "metadata": {},
     "output_type": "execute_result"
    }
   ],
   "source": [
    "# Inertial Reference Frame\n",
    "N = me.ReferenceFrame('N')\n",
    "N.x, N.y, N.z"
   ]
  },
  {
   "cell_type": "markdown",
   "metadata": {},
   "source": [
    "Frames"
   ]
  },
  {
   "cell_type": "code",
   "execution_count": 416,
   "metadata": {},
   "outputs": [
    {
     "name": "stdout",
     "output_type": "stream",
     "text": [
      "Rotation matrix for the A frame\n"
     ]
    },
    {
     "data": {
      "text/latex": [
       "$\\mathbf{R}_A$ $\\, = \\,$ $\\left[\\begin{matrix}\\cos{\\left(\\theta_{1} \\right)} & \\sin{\\left(\\theta_{1} \\right)} & 0\\\\- \\sin{\\left(\\theta_{1} \\right)} & \\cos{\\left(\\theta_{1} \\right)} & 0\\\\0 & 0 & 1\\end{matrix}\\right]$ "
      ],
      "text/plain": [
       "<IPython.core.display.Latex object>"
      ]
     },
     "metadata": {},
     "output_type": "display_data"
    },
    {
     "name": "stdout",
     "output_type": "stream",
     "text": [
      "Angular rate for the A frame\n"
     ]
    },
    {
     "data": {
      "text/latex": [
       "$\\mathbf{\\omega}_A$ $\\, = \\,$ $\\dot{\\theta}_{1}\\mathbf{\\hat{n}_z}$ "
      ],
      "text/plain": [
       "<IPython.core.display.Latex object>"
      ]
     },
     "metadata": {},
     "output_type": "display_data"
    },
    {
     "name": "stdout",
     "output_type": "stream",
     "text": [
      "Rotation matrix for the B frame\n"
     ]
    },
    {
     "data": {
      "text/latex": [
       "$\\mathbf{R}_B$ $\\, = \\,$ $\\left[\\begin{matrix}\\cos{\\left(\\theta_{2} \\right)} & \\sin{\\left(\\theta_{2} \\right)} & 0\\\\- \\sin{\\left(\\theta_{2} \\right)} & \\cos{\\left(\\theta_{2} \\right)} & 0\\\\0 & 0 & 1\\end{matrix}\\right]$ "
      ],
      "text/plain": [
       "<IPython.core.display.Latex object>"
      ]
     },
     "metadata": {},
     "output_type": "display_data"
    },
    {
     "name": "stdout",
     "output_type": "stream",
     "text": [
      "Angular rate for the B frame\n"
     ]
    },
    {
     "data": {
      "text/latex": [
       "$\\mathbf{\\omega}_B$ $\\, = \\,$ $\\dot{\\theta}_{2}\\mathbf{\\hat{n}_z}$ "
      ],
      "text/plain": [
       "<IPython.core.display.Latex object>"
      ]
     },
     "metadata": {},
     "output_type": "display_data"
    },
    {
     "name": "stdout",
     "output_type": "stream",
     "text": [
      "Rotation matrix for the C frame\n"
     ]
    },
    {
     "data": {
      "text/latex": [
       "$\\mathbf{R}_C$ $\\, = \\,$ $\\left[\\begin{matrix}\\cos{\\left(\\theta_{3} \\right)} & \\sin{\\left(\\theta_{3} \\right)} & 0\\\\- \\sin{\\left(\\theta_{3} \\right)} & \\cos{\\left(\\theta_{3} \\right)} & 0\\\\0 & 0 & 1\\end{matrix}\\right]$ "
      ],
      "text/plain": [
       "<IPython.core.display.Latex object>"
      ]
     },
     "metadata": {},
     "output_type": "display_data"
    },
    {
     "name": "stdout",
     "output_type": "stream",
     "text": [
      "Angular rate for the C frame\n"
     ]
    },
    {
     "data": {
      "text/latex": [
       "$\\mathbf{\\omega}_C$ $\\, = \\,$ $\\dot{\\theta}_{3}\\mathbf{\\hat{n}_z}$ "
      ],
      "text/plain": [
       "<IPython.core.display.Latex object>"
      ]
     },
     "metadata": {},
     "output_type": "display_data"
    }
   ],
   "source": [
    "l_a, l_b, l_c, l_n = sp.symbols('l_a l_b l_c l_n')\n",
    "q = theta_1, theta_2, theta_3 = me.dynamicsymbols('theta_1 theta_2 theta_3')\n",
    "s = omega_1, omega_2, omega_3 = me.dynamicsymbols('omega_1, omega_2, omega_3')\n",
    "t = me.dynamicsymbols._t\n",
    "\n",
    "A = me.ReferenceFrame('A')\n",
    "B = me.ReferenceFrame('B')\n",
    "C = me.ReferenceFrame('C')\n",
    "A.orient_axis(N, N.z, theta_1)\n",
    "B.orient_axis(N, N.z, theta_2)\n",
    "C.orient_axis(N, N.z, theta_3)\n",
    "# C.orient_axis(B, B.z, me.dot(B.x, C.x)) # TODO: this might work as it constrains the rotation of C with respect to B\n",
    "\n",
    "# A.set_ang_vel(N, omega_1*N.z)\n",
    "# B.set_ang_vel(N, omega_2*N.z)\n",
    "# C.set_ang_vel(N, omega_3*N.z)\n",
    "\n",
    "\n",
    "print(f'Rotation matrix for the A frame')\n",
    "dtex('\\\\mathbf{R}_A', A.dcm(N))\n",
    "print(f'Angular rate for the A frame')\n",
    "dtex('\\\\mathbf{\\\\omega}_A', A.ang_vel_in(N))\n",
    "\n",
    "print(f'Rotation matrix for the B frame')\n",
    "dtex('\\\\mathbf{R}_B', B.dcm(N))\n",
    "print(f'Angular rate for the B frame')\n",
    "dtex('\\\\mathbf{\\\\omega}_B', B.ang_vel_in(N))\n",
    "\n",
    "print(f'Rotation matrix for the C frame')\n",
    "dtex('\\\\mathbf{R}_C', sp.trigsimp(C.dcm(N)))\n",
    "print(f'Angular rate for the C frame')\n",
    "dtex('\\\\mathbf{\\\\omega}_C', C.ang_vel_in(N))"
   ]
  },
  {
   "cell_type": "code",
   "execution_count": 417,
   "metadata": {},
   "outputs": [
    {
     "data": {
      "text/latex": [
       "$\\displaystyle \\sin{\\left(\\theta_{2} \\right)} \\sin{\\left(\\theta_{3} \\right)} + \\cos{\\left(\\theta_{2} \\right)} \\cos{\\left(\\theta_{3} \\right)}$"
      ],
      "text/plain": [
       "sin(θ₂)⋅sin(θ₃) + cos(θ₂)⋅cos(θ₃)"
      ]
     },
     "execution_count": 417,
     "metadata": {},
     "output_type": "execute_result"
    }
   ],
   "source": [
    "me.dot(B.x, C.x)"
   ]
  },
  {
   "cell_type": "code",
   "execution_count": 418,
   "metadata": {},
   "outputs": [
    {
     "data": {
      "text/latex": [
       "$\\displaystyle \\cos{\\left(\\theta_{2} - \\theta_{3} \\right)}$"
      ],
      "text/plain": [
       "cos(θ₂ - θ₃)"
      ]
     },
     "execution_count": 418,
     "metadata": {},
     "output_type": "execute_result"
    }
   ],
   "source": [
    "sp.trigsimp(me.dot(B.x, C.x))"
   ]
  },
  {
   "cell_type": "markdown",
   "metadata": {},
   "source": [
    "Points"
   ]
  },
  {
   "cell_type": "code",
   "execution_count": 419,
   "metadata": {},
   "outputs": [
    {
     "data": {
      "text/latex": [
       "$\\displaystyle l_{a}\\mathbf{\\hat{a}_x}$"
      ],
      "text/plain": [
       "lₐ a_x"
      ]
     },
     "execution_count": 419,
     "metadata": {},
     "output_type": "execute_result"
    }
   ],
   "source": [
    "O = me.Point('O')\n",
    "O.set_vel(N, 0)\n",
    "\n",
    "P1 = me.Point('P1')\n",
    "P2 = me.Point('P2')\n",
    "P3 = me.Point('P3')\n",
    "P4 = me.Point('P4')\n",
    "\n",
    "P2.set_pos(P1, l_a*A.x)\n",
    "P3.set_pos(P2, l_b*B.x)\n",
    "P4.set_pos(P3, l_c*C.x)\n",
    "\n",
    "# P4.pos_from(P1)\n",
    "P2.pos_from(P1)"
   ]
  },
  {
   "cell_type": "code",
   "execution_count": 420,
   "metadata": {},
   "outputs": [
    {
     "data": {
      "text/latex": [
       "$\\displaystyle l_{c}\\mathbf{\\hat{c}_x} + l_{b}\\mathbf{\\hat{b}_x} + l_{a}\\mathbf{\\hat{a}_x} -  l_{n}\\mathbf{\\hat{n}_x}$"
      ],
      "text/plain": [
       "l_c c_x + l_b b_x + lₐ a_x + -lₙ n_x"
      ]
     },
     "metadata": {},
     "output_type": "display_data"
    }
   ],
   "source": [
    "loop = P4.pos_from(P1) - l_n*N.x\n",
    "display(loop)"
   ]
  },
  {
   "cell_type": "markdown",
   "metadata": {},
   "source": [
    "Constraint equations"
   ]
  },
  {
   "cell_type": "code",
   "execution_count": 421,
   "metadata": {},
   "outputs": [
    {
     "data": {
      "text/latex": [
       "$\\displaystyle \\left[\\begin{matrix}l_{a} \\cos{\\left(\\theta_{1} \\right)} + l_{b} \\cos{\\left(\\theta_{2} \\right)} + l_{c} \\cos{\\left(\\theta_{3} \\right)} - l_{n}\\\\l_{a} \\sin{\\left(\\theta_{1} \\right)} + l_{b} \\sin{\\left(\\theta_{2} \\right)} + l_{c} \\sin{\\left(\\theta_{3} \\right)}\\\\\\cos{\\left(\\theta_{2} - \\theta_{3} \\right)}\\end{matrix}\\right]$"
      ],
      "text/plain": [
       "⎡lₐ⋅cos(θ₁) + l_b⋅cos(θ₂) + l_c⋅cos(θ₃) - lₙ⎤\n",
       "⎢                                           ⎥\n",
       "⎢  lₐ⋅sin(θ₁) + l_b⋅sin(θ₂) + l_c⋅sin(θ₃)   ⎥\n",
       "⎢                                           ⎥\n",
       "⎣               cos(θ₂ - θ₃)                ⎦"
      ]
     },
     "execution_count": 421,
     "metadata": {},
     "output_type": "execute_result"
    }
   ],
   "source": [
    "fhx = sp.trigsimp(loop.dot(N.x))\n",
    "fhy = sp.trigsimp(loop.dot(N.y))\n",
    "fh = sp.Matrix([fhx, fhy, me.dot(B.x, C.x)])\n",
    "fh = sp.trigsimp(fh) # warning, this simplification is slow and may not be necessary\n",
    "fh"
   ]
  },
  {
   "cell_type": "code",
   "execution_count": 422,
   "metadata": {},
   "outputs": [
    {
     "data": {
      "text/latex": [
       "$\\displaystyle \\left[\\begin{matrix}- l_{a} \\sin{\\left(\\theta_{1} \\right)} \\dot{\\theta}_{1} - l_{b} \\sin{\\left(\\theta_{2} \\right)} \\dot{\\theta}_{2} - l_{c} \\sin{\\left(\\theta_{3} \\right)} \\dot{\\theta}_{3}\\\\l_{a} \\cos{\\left(\\theta_{1} \\right)} \\dot{\\theta}_{1} + l_{b} \\cos{\\left(\\theta_{2} \\right)} \\dot{\\theta}_{2} + l_{c} \\cos{\\left(\\theta_{3} \\right)} \\dot{\\theta}_{3}\\\\- \\left(\\dot{\\theta}_{2} - \\dot{\\theta}_{3}\\right) \\sin{\\left(\\theta_{2} - \\theta_{3} \\right)}\\end{matrix}\\right]$"
      ],
      "text/plain": [
       "⎡-lₐ⋅sin(θ₁)⋅θ₁̇ - l_b⋅sin(θ₂)⋅θ₂̇ - l_c⋅sin(θ₃)⋅θ₃̇⎤\n",
       "⎢                                                ⎥\n",
       "⎢lₐ⋅cos(θ₁)⋅θ₁̇ + l_b⋅cos(θ₂)⋅θ₂̇ + l_c⋅cos(θ₃)⋅θ₃̇ ⎥\n",
       "⎢                                                ⎥\n",
       "⎣            -(θ₂̇ - θ₃̇)⋅sin(θ₂ - θ₃)             ⎦"
      ]
     },
     "execution_count": 422,
     "metadata": {},
     "output_type": "execute_result"
    }
   ],
   "source": [
    "fhd = fh.diff(t)\n",
    "fhd"
   ]
  },
  {
   "cell_type": "code",
   "execution_count": 423,
   "metadata": {},
   "outputs": [
    {
     "name": "stdout",
     "output_type": "stream",
     "text": [
      "Position constraint equation\n"
     ]
    },
    {
     "data": {
      "text/latex": [
       "$l_{c}\\mathbf{\\hat{c}_x} + l_{b}\\mathbf{\\hat{b}_x} + l_{a}\\mathbf{\\hat{a}_x} -  l_{n}\\mathbf{\\hat{n}_x}$ $\\, = \\,$ $0$ "
      ],
      "text/plain": [
       "<IPython.core.display.Latex object>"
      ]
     },
     "metadata": {},
     "output_type": "display_data"
    },
    {
     "name": "stdout",
     "output_type": "stream",
     "text": [
      "Position constraint equations in inertial frame\n"
     ]
    },
    {
     "data": {
      "text/latex": [
       "$\\left[\\begin{matrix}l_{a} \\cos{\\left(\\theta_{1} \\right)} + l_{b} \\cos{\\left(\\theta_{2} \\right)} + l_{c} \\cos{\\left(\\theta_{3} \\right)} - l_{n}\\\\l_{a} \\sin{\\left(\\theta_{1} \\right)} + l_{b} \\sin{\\left(\\theta_{2} \\right)} + l_{c} \\sin{\\left(\\theta_{3} \\right)}\\\\\\cos{\\left(\\theta_{2} - \\theta_{3} \\right)}\\end{matrix}\\right]$ "
      ],
      "text/plain": [
       "<IPython.core.display.Latex object>"
      ]
     },
     "metadata": {},
     "output_type": "display_data"
    },
    {
     "name": "stdout",
     "output_type": "stream",
     "text": [
      "Velocity constraint equations in inertial frame\n"
     ]
    },
    {
     "data": {
      "text/latex": [
       "$\\left[\\begin{matrix}- l_{a} \\sin{\\left(\\theta_{1} \\right)} \\dot{\\theta}_{1} - l_{b} \\sin{\\left(\\theta_{2} \\right)} \\dot{\\theta}_{2} - l_{c} \\sin{\\left(\\theta_{3} \\right)} \\dot{\\theta}_{3}\\\\l_{a} \\cos{\\left(\\theta_{1} \\right)} \\dot{\\theta}_{1} + l_{b} \\cos{\\left(\\theta_{2} \\right)} \\dot{\\theta}_{2} + l_{c} \\cos{\\left(\\theta_{3} \\right)} \\dot{\\theta}_{3}\\\\- \\left(\\dot{\\theta}_{2} - \\dot{\\theta}_{3}\\right) \\sin{\\left(\\theta_{2} - \\theta_{3} \\right)}\\end{matrix}\\right]$ "
      ],
      "text/plain": [
       "<IPython.core.display.Latex object>"
      ]
     },
     "metadata": {},
     "output_type": "display_data"
    }
   ],
   "source": [
    "# Constraint equations\n",
    "# fc = loop\n",
    "# fv = fc.dt(N)\n",
    "\n",
    "# Constraint matrix equations in inertial frame\n",
    "# position_constraint = sp.Matrix(fc.to_matrix(N)[:2])\n",
    "# velocity_constraint = sp.Matrix(fv.to_matrix(N)[:2])\n",
    "\n",
    "print('Position constraint equation')\n",
    "dtex(loop, '0')\n",
    "\n",
    "print('Position constraint equations in inertial frame')\n",
    "dtex(fh)\n",
    "\n",
    "# print('Velocity constraint equation')\n",
    "# dtex(fv, '0')\n",
    "\n",
    "print('Velocity constraint equations in inertial frame')\n",
    "dtex(fhd)"
   ]
  },
  {
   "cell_type": "code",
   "execution_count": 424,
   "metadata": {},
   "outputs": [
    {
     "data": {
      "text/latex": [
       "$\\displaystyle \\left\\{\\theta_{1}, \\theta_{2}, \\theta_{3}\\right\\}$"
      ],
      "text/plain": [
       "{θ₁, θ₂, θ₃}"
      ]
     },
     "execution_count": 424,
     "metadata": {},
     "output_type": "execute_result"
    }
   ],
   "source": [
    "me.find_dynamicsymbols(fh)"
   ]
  },
  {
   "cell_type": "code",
   "execution_count": 425,
   "metadata": {},
   "outputs": [
    {
     "data": {
      "text/latex": [
       "$\\displaystyle \\left\\{ l_{a} : 1.0, \\  l_{c} : 1.0, \\  l_{n} : 4.0, \\  \\theta_{1} : 0.523598775598299\\right\\}$"
      ],
      "text/plain": [
       "{lₐ: 1.0, l_c: 1.0, lₙ: 4.0, θ₁: 0.5235987755982988}"
      ]
     },
     "execution_count": 425,
     "metadata": {},
     "output_type": "execute_result"
    }
   ],
   "source": [
    "import math  # provides pi as a float\n",
    "\n",
    "repl = {\n",
    "    l_a: 1.0,\n",
    "    # l_b: unknown,\n",
    "    l_c: 1.0,\n",
    "    l_n: 4.0,\n",
    "    theta_1: 30.0*math.pi/180.0,\n",
    "    # theta_2: unknown,\n",
    "    # theta_3: unknown,\n",
    "}\n",
    "repl"
   ]
  },
  {
   "cell_type": "code",
   "execution_count": 426,
   "metadata": {},
   "outputs": [
    {
     "data": {
      "text/latex": [
       "$\\displaystyle \\left[\\begin{matrix}l_{b} \\cos{\\left(\\theta_{2} \\right)} + 1.0 \\cos{\\left(\\theta_{3} \\right)} - 3.13397459621556\\\\l_{b} \\sin{\\left(\\theta_{2} \\right)} + 1.0 \\sin{\\left(\\theta_{3} \\right)} + 0.5\\\\\\cos{\\left(\\theta_{2} - \\theta_{3} \\right)}\\end{matrix}\\right]$"
      ],
      "text/plain": [
       "⎡l_b⋅cos(θ₂) + 1.0⋅cos(θ₃) - 3.13397459621556⎤\n",
       "⎢                                            ⎥\n",
       "⎢      l_b⋅sin(θ₂) + 1.0⋅sin(θ₃) + 0.5       ⎥\n",
       "⎢                                            ⎥\n",
       "⎣                cos(θ₂ - θ₃)                ⎦"
      ]
     },
     "execution_count": 426,
     "metadata": {},
     "output_type": "execute_result"
    }
   ],
   "source": [
    "fh.xreplace(repl)"
   ]
  },
  {
   "cell_type": "code",
   "execution_count": 427,
   "metadata": {},
   "outputs": [
    {
     "data": {
      "text/latex": [
       "$\\displaystyle \\left[\\begin{matrix}0.162352098936357\\\\-1.40844422785854\\\\3.01194235830045\\end{matrix}\\right]$"
      ],
      "text/plain": [
       "⎡0.162352098936357⎤\n",
       "⎢                 ⎥\n",
       "⎢-1.40844422785854⎥\n",
       "⎢                 ⎥\n",
       "⎣3.01194235830045 ⎦"
      ]
     },
     "execution_count": 427,
     "metadata": {},
     "output_type": "execute_result"
    }
   ],
   "source": [
    "theta_2_guess = 35.0*math.pi/180.0\n",
    "theta_3_guess = -95.0*math.pi/180.0\n",
    "# q3_guess = 100.0*math.pi/180.0\n",
    "l_b_guess = 4.0\n",
    "\n",
    "sol = sp.nsolve(fh.xreplace(repl), (theta_2, theta_3, l_b), (theta_2_guess, theta_3_guess, l_b_guess))\n",
    "sol"
   ]
  },
  {
   "cell_type": "code",
   "execution_count": 428,
   "metadata": {},
   "outputs": [
    {
     "name": "stderr",
     "output_type": "stream",
     "text": [
      "C:\\Users\\phcre\\AppData\\Local\\Temp\\ipykernel_25304\\1216961916.py:22: FutureWarning:\n",
      "\n",
      "The behavior of DataFrame concatenation with empty or all-NA entries is deprecated. In a future version, this will no longer exclude empty or all-NA columns when determining the result dtypes. To retain the old behavior, exclude the relevant entries before the concat operation.\n",
      "\n"
     ]
    },
    {
     "data": {
      "application/vnd.plotly.v1+json": {
       "config": {
        "plotlyServerURL": "https://plot.ly"
       },
       "data": [],
       "layout": {
        "shapes": [
         {
          "line": {
           "color": "blue",
           "width": 2
          },
          "type": "line",
          "x0": 0,
          "x1": 1,
          "y0": 0,
          "y1": 0
         },
         {
          "line": {
           "color": "red",
           "width": 2
          },
          "type": "line",
          "x0": 1,
          "x1": 3.666666666666667,
          "y0": 0,
          "y1": 0.9428090415820634
         },
         {
          "line": {
           "color": "green",
           "width": 2
          },
          "type": "line",
          "x0": 3.666666666666667,
          "x1": 4,
          "y0": 0.9428090415820634,
          "y1": 0
         },
         {
          "line": {
           "color": "orange",
           "width": 2
          },
          "type": "line",
          "x0": 4,
          "x1": 3.008751519290149,
          "y0": 0,
          "y1": -0.1320092780467033
         },
         {
          "line": {
           "color": "blue",
           "width": 2
          },
          "type": "line",
          "x0": 0,
          "x1": 0.7071067811865476,
          "y0": 0,
          "y1": 0.7071067811865475
         },
         {
          "line": {
           "color": "red",
           "width": 2
          },
          "type": "line",
          "x0": 0.7071067811865476,
          "x1": 3.9101850586714813,
          "y0": 0.7071067811865475,
          "y1": 0.9959584711794738
         },
         {
          "line": {
           "color": "green",
           "width": 2
          },
          "type": "line",
          "x0": 3.9101850586714813,
          "x1": 4,
          "y0": 0.9959584711794738,
          "y1": 0
         },
         {
          "line": {
           "color": "orange",
           "width": 2
          },
          "type": "line",
          "x0": 4,
          "x1": 3.2820514045300953,
          "y0": 0,
          "y1": -0.6960961242980678
         },
         {
          "line": {
           "color": "blue",
           "width": 2
          },
          "type": "line",
          "x0": 0,
          "x1": 6.123233995736766e-17,
          "y0": 0,
          "y1": 1
         },
         {
          "line": {
           "color": "red",
           "width": 2
          },
          "type": "line",
          "x0": 6.123233995736766e-17,
          "x1": 4,
          "y0": 1,
          "y1": 1
         },
         {
          "line": {
           "color": "green",
           "width": 2
          },
          "type": "line",
          "x0": 4,
          "x1": 4,
          "y0": 1,
          "y1": 3.2435171927270044e-23
         },
         {
          "line": {
           "color": "orange",
           "width": 2
          },
          "type": "line",
          "x0": 4,
          "x1": 4.072944339659148,
          "y0": 3.2435171927270044e-23,
          "y1": -0.997336013243125
         },
         {
          "line": {
           "color": "blue",
           "width": 2
          },
          "type": "line",
          "x0": 0,
          "x1": -0.7071067811865475,
          "y0": 0,
          "y1": 0.7071067811865476
         },
         {
          "line": {
           "color": "red",
           "width": 2
          },
          "type": "line",
          "x0": -0.7071067811865475,
          "x1": 3.9374825289708464,
          "y0": 0.7071067811865476,
          "y1": 0.9980438696851551
         },
         {
          "line": {
           "color": "green",
           "width": 2
          },
          "type": "line",
          "x0": 3.9374825289708464,
          "x1": 4,
          "y0": 0.9980438696851551,
          "y1": 0
         },
         {
          "line": {
           "color": "orange",
           "width": 2
          },
          "type": "line",
          "x0": 4,
          "x1": 4.616384876942808,
          "y0": 0,
          "y1": -0.7874450352095688
         },
         {
          "line": {
           "color": "blue",
           "width": 2
          },
          "type": "line",
          "x0": 0,
          "x1": -1,
          "y0": 0,
          "y1": 1.2246467991473532e-16
         },
         {
          "line": {
           "color": "red",
           "width": 2
          },
          "type": "line",
          "x0": -1,
          "x1": 3.799999999999999,
          "y0": 1.2246467991473532e-16,
          "y1": 0.9797958971132712
         },
         {
          "line": {
           "color": "green",
           "width": 2
          },
          "type": "line",
          "x0": 3.799999999999999,
          "x1": 3.999999999999999,
          "y0": 0.9797958971132712,
          "y1": 0
         },
         {
          "line": {
           "color": "orange",
           "width": 2
          },
          "type": "line",
          "x0": 3.999999999999999,
          "x1": 4.6965879206885495,
          "y0": 0,
          "y1": -0.7174714410698184
         },
         {
          "line": {
           "color": "blue",
           "width": 2
          },
          "type": "line",
          "x0": 0,
          "x1": -0.7071067811865477,
          "y0": 0,
          "y1": -0.7071067811865475
         },
         {
          "line": {
           "color": "red",
           "width": 2
          },
          "type": "line",
          "x0": -0.7071067811865477,
          "x1": 3.647004643930307,
          "y0": -0.7071067811865475,
          "y1": 0.9356250737305147
         },
         {
          "line": {
           "color": "green",
           "width": 2
          },
          "type": "line",
          "x0": 3.647004643930307,
          "x1": 4,
          "y0": 0.9356250737305147,
          "y1": 2.220446049250313e-16
         },
         {
          "line": {
           "color": "orange",
           "width": 2
          },
          "type": "line",
          "x0": 4,
          "x1": 4.357818897689508,
          "y0": 2.220446049250313e-16,
          "y1": -0.933791002556924
         },
         {
          "line": {
           "color": "blue",
           "width": 2
          },
          "type": "line",
          "x0": 0,
          "x1": -1.8369701987210297e-16,
          "y0": 0,
          "y1": -1
         },
         {
          "line": {
           "color": "red",
           "width": 2
          },
          "type": "line",
          "x0": -1.8369701987210297e-16,
          "x1": 3.5294117647058822,
          "y0": -1,
          "y1": 0.8823529411764706
         },
         {
          "line": {
           "color": "green",
           "width": 2
          },
          "type": "line",
          "x0": 3.5294117647058822,
          "x1": 3.9999999999999996,
          "y0": 0.8823529411764706,
          "y1": 0
         },
         {
          "line": {
           "color": "orange",
           "width": 2
          },
          "type": "line",
          "x0": 3.9999999999999996,
          "x1": 3.595028058173071,
          "y0": 0,
          "y1": -0.9143291127011798
         },
         {
          "line": {
           "color": "blue",
           "width": 2
          },
          "type": "line",
          "x0": 0,
          "x1": 0.7071067811865474,
          "y0": 0,
          "y1": -0.7071067811865477
         },
         {
          "line": {
           "color": "red",
           "width": 2
          },
          "type": "line",
          "x0": 0.7071067811865474,
          "x1": 3.5092188190110227,
          "y0": -0.7071067811865477,
          "y1": 0.8712828658863119
         },
         {
          "line": {
           "color": "green",
           "width": 2
          },
          "type": "line",
          "x0": 3.5092188190110227,
          "x1": 4,
          "y0": 0.8712828658863119,
          "y1": 0
         },
         {
          "line": {
           "color": "orange",
           "width": 2
          },
          "type": "line",
          "x0": 4,
          "x1": 3.0595673022774386,
          "y0": 0,
          "y1": -0.33997991272171524
         },
         {
          "line": {
           "color": "blue",
           "width": 2
          },
          "type": "line",
          "x0": 0,
          "x1": 1,
          "y0": 0,
          "y1": -2.4492935982947064e-16
         },
         {
          "line": {
           "color": "red",
           "width": 2
          },
          "type": "line",
          "x0": 1,
          "x1": 3.666666666666667,
          "y0": -2.4492935982947064e-16,
          "y1": 0.9428090415820635
         },
         {
          "line": {
           "color": "green",
           "width": 2
          },
          "type": "line",
          "x0": 3.666666666666667,
          "x1": 4,
          "y0": 0.9428090415820635,
          "y1": 1.1102230246251565e-16
         },
         {
          "line": {
           "color": "orange",
           "width": 2
          },
          "type": "line",
          "x0": 4,
          "x1": 3.008751519290149,
          "y0": 1.1102230246251565e-16,
          "y1": -0.1320092780467023
         }
        ],
        "template": {
         "data": {
          "bar": [
           {
            "error_x": {
             "color": "#2a3f5f"
            },
            "error_y": {
             "color": "#2a3f5f"
            },
            "marker": {
             "line": {
              "color": "#E5ECF6",
              "width": 0.5
             },
             "pattern": {
              "fillmode": "overlay",
              "size": 10,
              "solidity": 0.2
             }
            },
            "type": "bar"
           }
          ],
          "barpolar": [
           {
            "marker": {
             "line": {
              "color": "#E5ECF6",
              "width": 0.5
             },
             "pattern": {
              "fillmode": "overlay",
              "size": 10,
              "solidity": 0.2
             }
            },
            "type": "barpolar"
           }
          ],
          "carpet": [
           {
            "aaxis": {
             "endlinecolor": "#2a3f5f",
             "gridcolor": "white",
             "linecolor": "white",
             "minorgridcolor": "white",
             "startlinecolor": "#2a3f5f"
            },
            "baxis": {
             "endlinecolor": "#2a3f5f",
             "gridcolor": "white",
             "linecolor": "white",
             "minorgridcolor": "white",
             "startlinecolor": "#2a3f5f"
            },
            "type": "carpet"
           }
          ],
          "choropleth": [
           {
            "colorbar": {
             "outlinewidth": 0,
             "ticks": ""
            },
            "type": "choropleth"
           }
          ],
          "contour": [
           {
            "colorbar": {
             "outlinewidth": 0,
             "ticks": ""
            },
            "colorscale": [
             [
              0,
              "#0d0887"
             ],
             [
              0.1111111111111111,
              "#46039f"
             ],
             [
              0.2222222222222222,
              "#7201a8"
             ],
             [
              0.3333333333333333,
              "#9c179e"
             ],
             [
              0.4444444444444444,
              "#bd3786"
             ],
             [
              0.5555555555555556,
              "#d8576b"
             ],
             [
              0.6666666666666666,
              "#ed7953"
             ],
             [
              0.7777777777777778,
              "#fb9f3a"
             ],
             [
              0.8888888888888888,
              "#fdca26"
             ],
             [
              1,
              "#f0f921"
             ]
            ],
            "type": "contour"
           }
          ],
          "contourcarpet": [
           {
            "colorbar": {
             "outlinewidth": 0,
             "ticks": ""
            },
            "type": "contourcarpet"
           }
          ],
          "heatmap": [
           {
            "colorbar": {
             "outlinewidth": 0,
             "ticks": ""
            },
            "colorscale": [
             [
              0,
              "#0d0887"
             ],
             [
              0.1111111111111111,
              "#46039f"
             ],
             [
              0.2222222222222222,
              "#7201a8"
             ],
             [
              0.3333333333333333,
              "#9c179e"
             ],
             [
              0.4444444444444444,
              "#bd3786"
             ],
             [
              0.5555555555555556,
              "#d8576b"
             ],
             [
              0.6666666666666666,
              "#ed7953"
             ],
             [
              0.7777777777777778,
              "#fb9f3a"
             ],
             [
              0.8888888888888888,
              "#fdca26"
             ],
             [
              1,
              "#f0f921"
             ]
            ],
            "type": "heatmap"
           }
          ],
          "heatmapgl": [
           {
            "colorbar": {
             "outlinewidth": 0,
             "ticks": ""
            },
            "colorscale": [
             [
              0,
              "#0d0887"
             ],
             [
              0.1111111111111111,
              "#46039f"
             ],
             [
              0.2222222222222222,
              "#7201a8"
             ],
             [
              0.3333333333333333,
              "#9c179e"
             ],
             [
              0.4444444444444444,
              "#bd3786"
             ],
             [
              0.5555555555555556,
              "#d8576b"
             ],
             [
              0.6666666666666666,
              "#ed7953"
             ],
             [
              0.7777777777777778,
              "#fb9f3a"
             ],
             [
              0.8888888888888888,
              "#fdca26"
             ],
             [
              1,
              "#f0f921"
             ]
            ],
            "type": "heatmapgl"
           }
          ],
          "histogram": [
           {
            "marker": {
             "pattern": {
              "fillmode": "overlay",
              "size": 10,
              "solidity": 0.2
             }
            },
            "type": "histogram"
           }
          ],
          "histogram2d": [
           {
            "colorbar": {
             "outlinewidth": 0,
             "ticks": ""
            },
            "colorscale": [
             [
              0,
              "#0d0887"
             ],
             [
              0.1111111111111111,
              "#46039f"
             ],
             [
              0.2222222222222222,
              "#7201a8"
             ],
             [
              0.3333333333333333,
              "#9c179e"
             ],
             [
              0.4444444444444444,
              "#bd3786"
             ],
             [
              0.5555555555555556,
              "#d8576b"
             ],
             [
              0.6666666666666666,
              "#ed7953"
             ],
             [
              0.7777777777777778,
              "#fb9f3a"
             ],
             [
              0.8888888888888888,
              "#fdca26"
             ],
             [
              1,
              "#f0f921"
             ]
            ],
            "type": "histogram2d"
           }
          ],
          "histogram2dcontour": [
           {
            "colorbar": {
             "outlinewidth": 0,
             "ticks": ""
            },
            "colorscale": [
             [
              0,
              "#0d0887"
             ],
             [
              0.1111111111111111,
              "#46039f"
             ],
             [
              0.2222222222222222,
              "#7201a8"
             ],
             [
              0.3333333333333333,
              "#9c179e"
             ],
             [
              0.4444444444444444,
              "#bd3786"
             ],
             [
              0.5555555555555556,
              "#d8576b"
             ],
             [
              0.6666666666666666,
              "#ed7953"
             ],
             [
              0.7777777777777778,
              "#fb9f3a"
             ],
             [
              0.8888888888888888,
              "#fdca26"
             ],
             [
              1,
              "#f0f921"
             ]
            ],
            "type": "histogram2dcontour"
           }
          ],
          "mesh3d": [
           {
            "colorbar": {
             "outlinewidth": 0,
             "ticks": ""
            },
            "type": "mesh3d"
           }
          ],
          "parcoords": [
           {
            "line": {
             "colorbar": {
              "outlinewidth": 0,
              "ticks": ""
             }
            },
            "type": "parcoords"
           }
          ],
          "pie": [
           {
            "automargin": true,
            "type": "pie"
           }
          ],
          "scatter": [
           {
            "fillpattern": {
             "fillmode": "overlay",
             "size": 10,
             "solidity": 0.2
            },
            "type": "scatter"
           }
          ],
          "scatter3d": [
           {
            "line": {
             "colorbar": {
              "outlinewidth": 0,
              "ticks": ""
             }
            },
            "marker": {
             "colorbar": {
              "outlinewidth": 0,
              "ticks": ""
             }
            },
            "type": "scatter3d"
           }
          ],
          "scattercarpet": [
           {
            "marker": {
             "colorbar": {
              "outlinewidth": 0,
              "ticks": ""
             }
            },
            "type": "scattercarpet"
           }
          ],
          "scattergeo": [
           {
            "marker": {
             "colorbar": {
              "outlinewidth": 0,
              "ticks": ""
             }
            },
            "type": "scattergeo"
           }
          ],
          "scattergl": [
           {
            "marker": {
             "colorbar": {
              "outlinewidth": 0,
              "ticks": ""
             }
            },
            "type": "scattergl"
           }
          ],
          "scattermapbox": [
           {
            "marker": {
             "colorbar": {
              "outlinewidth": 0,
              "ticks": ""
             }
            },
            "type": "scattermapbox"
           }
          ],
          "scatterpolar": [
           {
            "marker": {
             "colorbar": {
              "outlinewidth": 0,
              "ticks": ""
             }
            },
            "type": "scatterpolar"
           }
          ],
          "scatterpolargl": [
           {
            "marker": {
             "colorbar": {
              "outlinewidth": 0,
              "ticks": ""
             }
            },
            "type": "scatterpolargl"
           }
          ],
          "scatterternary": [
           {
            "marker": {
             "colorbar": {
              "outlinewidth": 0,
              "ticks": ""
             }
            },
            "type": "scatterternary"
           }
          ],
          "surface": [
           {
            "colorbar": {
             "outlinewidth": 0,
             "ticks": ""
            },
            "colorscale": [
             [
              0,
              "#0d0887"
             ],
             [
              0.1111111111111111,
              "#46039f"
             ],
             [
              0.2222222222222222,
              "#7201a8"
             ],
             [
              0.3333333333333333,
              "#9c179e"
             ],
             [
              0.4444444444444444,
              "#bd3786"
             ],
             [
              0.5555555555555556,
              "#d8576b"
             ],
             [
              0.6666666666666666,
              "#ed7953"
             ],
             [
              0.7777777777777778,
              "#fb9f3a"
             ],
             [
              0.8888888888888888,
              "#fdca26"
             ],
             [
              1,
              "#f0f921"
             ]
            ],
            "type": "surface"
           }
          ],
          "table": [
           {
            "cells": {
             "fill": {
              "color": "#EBF0F8"
             },
             "line": {
              "color": "white"
             }
            },
            "header": {
             "fill": {
              "color": "#C8D4E3"
             },
             "line": {
              "color": "white"
             }
            },
            "type": "table"
           }
          ]
         },
         "layout": {
          "annotationdefaults": {
           "arrowcolor": "#2a3f5f",
           "arrowhead": 0,
           "arrowwidth": 1
          },
          "autotypenumbers": "strict",
          "coloraxis": {
           "colorbar": {
            "outlinewidth": 0,
            "ticks": ""
           }
          },
          "colorscale": {
           "diverging": [
            [
             0,
             "#8e0152"
            ],
            [
             0.1,
             "#c51b7d"
            ],
            [
             0.2,
             "#de77ae"
            ],
            [
             0.3,
             "#f1b6da"
            ],
            [
             0.4,
             "#fde0ef"
            ],
            [
             0.5,
             "#f7f7f7"
            ],
            [
             0.6,
             "#e6f5d0"
            ],
            [
             0.7,
             "#b8e186"
            ],
            [
             0.8,
             "#7fbc41"
            ],
            [
             0.9,
             "#4d9221"
            ],
            [
             1,
             "#276419"
            ]
           ],
           "sequential": [
            [
             0,
             "#0d0887"
            ],
            [
             0.1111111111111111,
             "#46039f"
            ],
            [
             0.2222222222222222,
             "#7201a8"
            ],
            [
             0.3333333333333333,
             "#9c179e"
            ],
            [
             0.4444444444444444,
             "#bd3786"
            ],
            [
             0.5555555555555556,
             "#d8576b"
            ],
            [
             0.6666666666666666,
             "#ed7953"
            ],
            [
             0.7777777777777778,
             "#fb9f3a"
            ],
            [
             0.8888888888888888,
             "#fdca26"
            ],
            [
             1,
             "#f0f921"
            ]
           ],
           "sequentialminus": [
            [
             0,
             "#0d0887"
            ],
            [
             0.1111111111111111,
             "#46039f"
            ],
            [
             0.2222222222222222,
             "#7201a8"
            ],
            [
             0.3333333333333333,
             "#9c179e"
            ],
            [
             0.4444444444444444,
             "#bd3786"
            ],
            [
             0.5555555555555556,
             "#d8576b"
            ],
            [
             0.6666666666666666,
             "#ed7953"
            ],
            [
             0.7777777777777778,
             "#fb9f3a"
            ],
            [
             0.8888888888888888,
             "#fdca26"
            ],
            [
             1,
             "#f0f921"
            ]
           ]
          },
          "colorway": [
           "#636efa",
           "#EF553B",
           "#00cc96",
           "#ab63fa",
           "#FFA15A",
           "#19d3f3",
           "#FF6692",
           "#B6E880",
           "#FF97FF",
           "#FECB52"
          ],
          "font": {
           "color": "#2a3f5f"
          },
          "geo": {
           "bgcolor": "white",
           "lakecolor": "white",
           "landcolor": "#E5ECF6",
           "showlakes": true,
           "showland": true,
           "subunitcolor": "white"
          },
          "hoverlabel": {
           "align": "left"
          },
          "hovermode": "closest",
          "mapbox": {
           "style": "light"
          },
          "paper_bgcolor": "white",
          "plot_bgcolor": "#E5ECF6",
          "polar": {
           "angularaxis": {
            "gridcolor": "white",
            "linecolor": "white",
            "ticks": ""
           },
           "bgcolor": "#E5ECF6",
           "radialaxis": {
            "gridcolor": "white",
            "linecolor": "white",
            "ticks": ""
           }
          },
          "scene": {
           "xaxis": {
            "backgroundcolor": "#E5ECF6",
            "gridcolor": "white",
            "gridwidth": 2,
            "linecolor": "white",
            "showbackground": true,
            "ticks": "",
            "zerolinecolor": "white"
           },
           "yaxis": {
            "backgroundcolor": "#E5ECF6",
            "gridcolor": "white",
            "gridwidth": 2,
            "linecolor": "white",
            "showbackground": true,
            "ticks": "",
            "zerolinecolor": "white"
           },
           "zaxis": {
            "backgroundcolor": "#E5ECF6",
            "gridcolor": "white",
            "gridwidth": 2,
            "linecolor": "white",
            "showbackground": true,
            "ticks": "",
            "zerolinecolor": "white"
           }
          },
          "shapedefaults": {
           "line": {
            "color": "#2a3f5f"
           }
          },
          "ternary": {
           "aaxis": {
            "gridcolor": "white",
            "linecolor": "white",
            "ticks": ""
           },
           "baxis": {
            "gridcolor": "white",
            "linecolor": "white",
            "ticks": ""
           },
           "bgcolor": "#E5ECF6",
           "caxis": {
            "gridcolor": "white",
            "linecolor": "white",
            "ticks": ""
           }
          },
          "title": {
           "x": 0.05
          },
          "xaxis": {
           "automargin": true,
           "gridcolor": "white",
           "linecolor": "white",
           "ticks": "",
           "title": {
            "standoff": 15
           },
           "zerolinecolor": "white",
           "zerolinewidth": 2
          },
          "yaxis": {
           "automargin": true,
           "gridcolor": "white",
           "linecolor": "white",
           "ticks": "",
           "title": {
            "standoff": 15
           },
           "zerolinecolor": "white",
           "zerolinewidth": 2
          }
         }
        },
        "yaxis": {
         "scaleanchor": "x"
        }
       }
      }
     },
     "metadata": {},
     "output_type": "display_data"
    }
   ],
   "source": [
    "import plotly.graph_objects as go\n",
    "import numpy as np\n",
    "import pandas as pd\n",
    "\n",
    "points = pd.DataFrame(columns=['1', '2', '3', '4'])\n",
    "solutions = pd.DataFrame(columns=['theta_2', 'theta_3', 'l_b'])\n",
    "\n",
    "theta_1_range = np.linspace(0, 2*np.pi, 9)\n",
    "for theta_1_val in theta_1_range:\n",
    "    repl[theta_1] = theta_1_val\n",
    "    sols = sp.nsolve(fh.xreplace(repl), (theta_2, theta_3, l_b), (theta_2_guess, theta_3_guess, l_b_guess))\n",
    "    theta_2_sol = float(sols[0])\n",
    "    theta_3_sol = float(sols[1])\n",
    "    l_b_sol = float(sols[2])\n",
    "\n",
    "    points = pd.concat([points, pd.DataFrame({\n",
    "        '1': [np.array(P1.pos_from(P1).to_matrix(N).xreplace(repl).subs({theta_2: theta_2_sol, theta_3: theta_3_sol, l_b: l_b_sol})[:2]).astype(np.float64)],\n",
    "        '2': [np.array(P2.pos_from(P1).to_matrix(N).xreplace(repl).subs({theta_2: theta_2_sol, theta_3: theta_3_sol, l_b: l_b_sol})[:2]).astype(np.float64)],\n",
    "        '3': [np.array(P3.pos_from(P1).to_matrix(N).xreplace(repl).subs({theta_2: theta_2_sol, theta_3: theta_3_sol, l_b: l_b_sol})[:2]).astype(np.float64)],\n",
    "        '4': [np.array(P4.pos_from(P1).to_matrix(N).xreplace(repl).subs({theta_2: theta_2_sol, theta_3: theta_3_sol, l_b: l_b_sol})[:2]).astype(np.float64)],\n",
    "    })], ignore_index=True)\n",
    "    solutions = pd.concat([solutions, pd.DataFrame({\n",
    "        'theta_2': [theta_2_sol],\n",
    "        'theta_3': [theta_3_sol],\n",
    "        'l_b': [l_b_sol],\n",
    "    })], ignore_index=True)\n",
    "\n",
    "fig = go.Figure()\n",
    "\n",
    "for i, point in points.iterrows():\n",
    "    fig.add_shape(\n",
    "        type='line',\n",
    "        x0=point['1'][0],\n",
    "        y0=point['1'][1],\n",
    "        x1=point['2'][0],\n",
    "        y1=point['2'][1],\n",
    "        line=dict(color='blue', width=2),\n",
    "    )\n",
    "    fig.add_shape(\n",
    "        type='line',\n",
    "        x0=point['2'][0],\n",
    "        y0=point['2'][1],\n",
    "        x1=point['3'][0],\n",
    "        y1=point['3'][1],\n",
    "        line=dict(color='red', width=2),\n",
    "    )\n",
    "    fig.add_shape(\n",
    "        type='line',\n",
    "        x0=point['3'][0],\n",
    "        y0=point['3'][1],\n",
    "        x1=point['4'][0],\n",
    "        y1=point['4'][1],\n",
    "        line=dict(color='green', width=2),\n",
    "    )\n",
    "    \n",
    "    l_b_sol = solutions.iloc[i]['l_b']\n",
    "    theta_3_sol = solutions.iloc[i]['theta_3']\n",
    "    output_shaft_rot = float(l_b_sol/repl[l_c] - theta_3_sol - np.pi/4)\n",
    "    fig.add_shape(\n",
    "        type='line',\n",
    "        x0=point['4'][0],\n",
    "        y0=point['4'][1],\n",
    "        x1=point['4'][0] + repl[l_c]*np.cos(output_shaft_rot),\n",
    "        y1=point['4'][1] + repl[l_c]*np.sin(output_shaft_rot),\n",
    "        line=dict(color='orange', width=2),\n",
    "    )\n",
    "\n",
    "fig.update_layout(\n",
    "    # height=800,\n",
    "    yaxis_scaleanchor=\"x\",\n",
    ")\n",
    "fig.show()"
   ]
  },
  {
   "cell_type": "markdown",
   "metadata": {},
   "source": [
    "## Velocity"
   ]
  },
  {
   "cell_type": "code",
   "execution_count": 429,
   "metadata": {},
   "outputs": [
    {
     "data": {
      "text/latex": [
       "$\\displaystyle l_{c} \\dot{\\theta}_{3}\\mathbf{\\hat{c}_y} + l_{b} \\dot{\\theta}_{2}\\mathbf{\\hat{b}_y} + l_{a} \\dot{\\theta}_{1}\\mathbf{\\hat{a}_y}$"
      ],
      "text/plain": [
       "l_c⋅θ₃̇ c_y + l_b⋅θ₂̇ b_y + lₐ⋅θ₁̇ a_y"
      ]
     },
     "execution_count": 429,
     "metadata": {},
     "output_type": "execute_result"
    }
   ],
   "source": [
    "P1.set_vel(N, 0)\n",
    "P4.vel(N)"
   ]
  },
  {
   "cell_type": "code",
   "execution_count": 430,
   "metadata": {},
   "outputs": [
    {
     "data": {
      "text/latex": [
       "$\\displaystyle \\left[\\begin{matrix}- l_{a} \\sin{\\left(\\theta_{1} \\right)} \\dot{\\theta}_{1} - l_{b} \\sin{\\left(\\theta_{2} \\right)} \\dot{\\theta}_{2} - l_{c} \\sin{\\left(\\theta_{3} \\right)} \\dot{\\theta}_{3}\\\\l_{a} \\cos{\\left(\\theta_{1} \\right)} \\dot{\\theta}_{1} + l_{b} \\cos{\\left(\\theta_{2} \\right)} \\dot{\\theta}_{2} + l_{c} \\cos{\\left(\\theta_{3} \\right)} \\dot{\\theta}_{3}\\\\- \\left(\\dot{\\theta}_{2} - \\dot{\\theta}_{3}\\right) \\sin{\\left(\\theta_{2} - \\theta_{3} \\right)}\\end{matrix}\\right]$"
      ],
      "text/plain": [
       "⎡-lₐ⋅sin(θ₁)⋅θ₁̇ - l_b⋅sin(θ₂)⋅θ₂̇ - l_c⋅sin(θ₃)⋅θ₃̇⎤\n",
       "⎢                                                ⎥\n",
       "⎢lₐ⋅cos(θ₁)⋅θ₁̇ + l_b⋅cos(θ₂)⋅θ₂̇ + l_c⋅cos(θ₃)⋅θ₃̇ ⎥\n",
       "⎢                                                ⎥\n",
       "⎣            -(θ₂̇ - θ₃̇)⋅sin(θ₂ - θ₃)             ⎦"
      ]
     },
     "execution_count": 430,
     "metadata": {},
     "output_type": "execute_result"
    }
   ],
   "source": [
    "# https://moorepants.github.io/learn-multibody-dynamics/configuration.html\n",
    "t = me.dynamicsymbols._t\n",
    "fhd = fh.diff(t)\n",
    "fhd"
   ]
  },
  {
   "cell_type": "code",
   "execution_count": 431,
   "metadata": {},
   "outputs": [
    {
     "data": {
      "text/latex": [
       "$\\displaystyle \\left[\\begin{matrix}\\dot{\\theta}_{2}\\\\\\dot{\\theta}_{3}\\end{matrix}\\right]$"
      ],
      "text/plain": [
       "⎡θ₂̇⎤\n",
       "⎢  ⎥\n",
       "⎣θ₃̇⎦"
      ]
     },
     "execution_count": 431,
     "metadata": {},
     "output_type": "execute_result"
    }
   ],
   "source": [
    "x = sp.Matrix([theta_2.diff(t), theta_3.diff(t)])\n",
    "x"
   ]
  },
  {
   "cell_type": "code",
   "execution_count": 432,
   "metadata": {},
   "outputs": [
    {
     "data": {
      "text/latex": [
       "$\\displaystyle \\left[\\begin{matrix}- l_{b} \\sin{\\left(\\theta_{2} \\right)} & - l_{c} \\sin{\\left(\\theta_{3} \\right)}\\\\l_{b} \\cos{\\left(\\theta_{2} \\right)} & l_{c} \\cos{\\left(\\theta_{3} \\right)}\\\\- \\sin{\\left(\\theta_{2} - \\theta_{3} \\right)} & \\sin{\\left(\\theta_{2} - \\theta_{3} \\right)}\\end{matrix}\\right]$"
      ],
      "text/plain": [
       "⎡-l_b⋅sin(θ₂)   -l_c⋅sin(θ₃)⎤\n",
       "⎢                           ⎥\n",
       "⎢ l_b⋅cos(θ₂)   l_c⋅cos(θ₃) ⎥\n",
       "⎢                           ⎥\n",
       "⎣-sin(θ₂ - θ₃)  sin(θ₂ - θ₃)⎦"
      ]
     },
     "execution_count": 432,
     "metadata": {},
     "output_type": "execute_result"
    }
   ],
   "source": [
    "Amatrix = fhd.jacobian(x)\n",
    "Amatrix"
   ]
  },
  {
   "cell_type": "code",
   "execution_count": 433,
   "metadata": {},
   "outputs": [
    {
     "data": {
      "text/latex": [
       "$\\displaystyle \\left[\\begin{matrix}l_{a} \\sin{\\left(\\theta_{1} \\right)} \\dot{\\theta}_{1}\\\\- l_{a} \\cos{\\left(\\theta_{1} \\right)} \\dot{\\theta}_{1}\\\\0\\end{matrix}\\right]$"
      ],
      "text/plain": [
       "⎡lₐ⋅sin(θ₁)⋅θ₁̇ ⎤\n",
       "⎢              ⎥\n",
       "⎢-lₐ⋅cos(θ₁)⋅θ₁̇⎥\n",
       "⎢              ⎥\n",
       "⎣      0       ⎦"
      ]
     },
     "execution_count": 433,
     "metadata": {},
     "output_type": "execute_result"
    }
   ],
   "source": [
    "b = -fhd.xreplace({theta_2.diff(t): 0, theta_3.diff(t): 0})\n",
    "b"
   ]
  },
  {
   "cell_type": "code",
   "execution_count": 434,
   "metadata": {},
   "outputs": [
    {
     "ename": "ValueError",
     "evalue": "The system is inconsistent.",
     "output_type": "error",
     "traceback": [
      "\u001b[1;31m---------------------------------------------------------------------------\u001b[0m",
      "\u001b[1;31mValueError\u001b[0m                                Traceback (most recent call last)",
      "Cell \u001b[1;32mIn[434], line 1\u001b[0m\n\u001b[1;32m----> 1\u001b[0m x_sol \u001b[38;5;241m=\u001b[39m sp\u001b[38;5;241m.\u001b[39msimplify(\u001b[43mAmatrix\u001b[49m\u001b[38;5;241;43m.\u001b[39;49m\u001b[43mLUsolve\u001b[49m\u001b[43m(\u001b[49m\u001b[43mb\u001b[49m\u001b[43m)\u001b[49m)\n\u001b[0;32m      2\u001b[0m x_sol\n",
      "File \u001b[1;32mc:\\Users\\phcre\\Documents\\Python\\cvt_beltless_mechanics\\.venv\\Lib\\site-packages\\sympy\\matrices\\matrixbase.py:5180\u001b[0m, in \u001b[0;36mMatrixBase.LUsolve\u001b[1;34m(self, rhs, iszerofunc)\u001b[0m\n\u001b[0;32m   5179\u001b[0m \u001b[38;5;28;01mdef\u001b[39;00m\u001b[38;5;250m \u001b[39m\u001b[38;5;21mLUsolve\u001b[39m(\u001b[38;5;28mself\u001b[39m, rhs, iszerofunc\u001b[38;5;241m=\u001b[39m_iszero):\n\u001b[1;32m-> 5180\u001b[0m     \u001b[38;5;28;01mreturn\u001b[39;00m \u001b[43m_LUsolve\u001b[49m\u001b[43m(\u001b[49m\u001b[38;5;28;43mself\u001b[39;49m\u001b[43m,\u001b[49m\u001b[43m \u001b[49m\u001b[43mrhs\u001b[49m\u001b[43m,\u001b[49m\u001b[43m \u001b[49m\u001b[43miszerofunc\u001b[49m\u001b[38;5;241;43m=\u001b[39;49m\u001b[43miszerofunc\u001b[49m\u001b[43m)\u001b[49m\n",
      "File \u001b[1;32mc:\\Users\\phcre\\Documents\\Python\\cvt_beltless_mechanics\\.venv\\Lib\\site-packages\\sympy\\matrices\\solvers.py:367\u001b[0m, in \u001b[0;36m_LUsolve\u001b[1;34m(M, rhs, iszerofunc)\u001b[0m\n\u001b[0;32m    365\u001b[0m         \u001b[38;5;28;01mfor\u001b[39;00m j \u001b[38;5;129;01min\u001b[39;00m \u001b[38;5;28mrange\u001b[39m(b\u001b[38;5;241m.\u001b[39mcols):\n\u001b[0;32m    366\u001b[0m             \u001b[38;5;28;01mif\u001b[39;00m \u001b[38;5;129;01mnot\u001b[39;00m iszerofunc(b[i, j]):\n\u001b[1;32m--> 367\u001b[0m                 \u001b[38;5;28;01mraise\u001b[39;00m \u001b[38;5;167;01mValueError\u001b[39;00m(\u001b[38;5;124m\"\u001b[39m\u001b[38;5;124mThe system is inconsistent.\u001b[39m\u001b[38;5;124m\"\u001b[39m)\n\u001b[0;32m    369\u001b[0m     b \u001b[38;5;241m=\u001b[39m b[\u001b[38;5;241m0\u001b[39m:n, :]   \u001b[38;5;66;03m# truncate zero rows if consistent\u001b[39;00m\n\u001b[0;32m    371\u001b[0m \u001b[38;5;66;03m# backward substitution\u001b[39;00m\n",
      "\u001b[1;31mValueError\u001b[0m: The system is inconsistent."
     ]
    }
   ],
   "source": [
    "x_sol = sp.simplify(Amatrix.LUsolve(b))\n",
    "x_sol"
   ]
  },
  {
   "cell_type": "code",
   "execution_count": 240,
   "metadata": {},
   "outputs": [
    {
     "data": {
      "text/latex": [
       "$\\displaystyle \\left\\{\\theta_{1}, \\theta_{2}, \\theta_{3}, \\dot{\\theta}_{1}, \\dot{\\theta}_{2}, \\dot{\\theta}_{3}\\right\\}$"
      ],
      "text/plain": [
       "{θ₁, θ₂, θ₃, θ₁̇, θ₂̇, θ₃̇}"
      ]
     },
     "execution_count": 240,
     "metadata": {},
     "output_type": "execute_result"
    }
   ],
   "source": [
    "P4.vel(N).free_dynamicsymbols(N)"
   ]
  },
  {
   "cell_type": "code",
   "execution_count": 241,
   "metadata": {},
   "outputs": [
    {
     "data": {
      "text/latex": [
       "$\\displaystyle \\left\\{ \\dot{\\theta}_{2} : - \\frac{l_{a} \\sin{\\left(- \\theta_{1} + \\theta_{2} + \\sin{\\left(\\theta_{2} - \\theta_{3} \\right)} \\right)} \\dot{\\theta}_{1}}{l_{b} \\sin{\\left(\\sin{\\left(\\theta_{2} - \\theta_{3} \\right)} \\right)}}, \\  \\dot{\\theta}_{3} : \\frac{l_{a} \\left(2 l_{b} \\sin{\\left(\\theta_{1} - \\theta_{2} \\right)} - 2 l_{c} \\sin{\\left(- \\theta_{1} + \\theta_{2} + \\sin{\\left(\\theta_{2} - \\theta_{3} \\right)} \\right)} - l_{c} \\sin{\\left(- \\theta_{1} + \\theta_{3} + \\sin{\\left(\\theta_{2} - \\theta_{3} \\right)} \\right)} + l_{c} \\sin{\\left(\\theta_{1} - 2 \\theta_{2} + \\theta_{3} - \\sin{\\left(\\theta_{2} - \\theta_{3} \\right)} \\right)}\\right) \\dot{\\theta}_{1}}{l_{b} l_{c} \\left(\\sin{\\left(- \\theta_{2} + \\theta_{3} + \\sin{\\left(\\theta_{2} - \\theta_{3} \\right)} \\right)} + \\sin{\\left(\\theta_{2} - \\theta_{3} + \\sin{\\left(\\theta_{2} - \\theta_{3} \\right)} \\right)}\\right)}\\right\\}$"
      ],
      "text/plain": [
       "⎧    -lₐ⋅sin(-θ₁ + θ₂ + sin(θ₂ - θ₃))⋅θ₁̇       lₐ⋅(2⋅l_b⋅sin(θ₁ - θ₂) - 2⋅l_c⋅ ↪\n",
       "⎨θ₂̇: ────────────────────────────────────, θ₃̇: ─────────────────────────────── ↪\n",
       "⎩           l_b⋅sin(sin(θ₂ - θ₃))                                              ↪\n",
       "\n",
       "↪ sin(-θ₁ + θ₂ + sin(θ₂ - θ₃)) - l_c⋅sin(-θ₁ + θ₃ + sin(θ₂ - θ₃)) + l_c⋅sin(θ₁ ↪\n",
       "↪ ──────────────────────────────────────────────────────────────────────────── ↪\n",
       "↪     l_b⋅l_c⋅(sin(-θ₂ + θ₃ + sin(θ₂ - θ₃)) + sin(θ₂ - θ₃ + sin(θ₂ - θ₃)))     ↪\n",
       "\n",
       "↪  - 2⋅θ₂ + θ₃ - sin(θ₂ - θ₃)))⋅θ₁̇⎫\n",
       "↪ ────────────────────────────────⎬\n",
       "↪                                 ⎭"
      ]
     },
     "execution_count": 241,
     "metadata": {},
     "output_type": "execute_result"
    }
   ],
   "source": [
    "qd_dep_repl = {\n",
    "  theta_2.diff(t): x_sol[0, 0],\n",
    "  theta_3.diff(t): x_sol[1, 0],\n",
    "  # omega_2: x_sol[0, 0],\n",
    "  # omega_3: x_sol[1, 0],\n",
    "}\n",
    "qd_dep_repl"
   ]
  },
  {
   "cell_type": "code",
   "execution_count": 242,
   "metadata": {},
   "outputs": [
    {
     "data": {
      "text/latex": [
       "$\\displaystyle \\frac{l_{a} \\left(2 l_{b} \\sin{\\left(\\theta_{1} - \\theta_{2} \\right)} - 2 l_{c} \\sin{\\left(- \\theta_{1} + \\theta_{2} + \\sin{\\left(\\theta_{2} - \\theta_{3} \\right)} \\right)} - l_{c} \\sin{\\left(- \\theta_{1} + \\theta_{3} + \\sin{\\left(\\theta_{2} - \\theta_{3} \\right)} \\right)} + l_{c} \\sin{\\left(\\theta_{1} - 2 \\theta_{2} + \\theta_{3} - \\sin{\\left(\\theta_{2} - \\theta_{3} \\right)} \\right)}\\right) \\dot{\\theta}_{1}}{l_{b} \\left(\\sin{\\left(- \\theta_{2} + \\theta_{3} + \\sin{\\left(\\theta_{2} - \\theta_{3} \\right)} \\right)} + \\sin{\\left(\\theta_{2} - \\theta_{3} + \\sin{\\left(\\theta_{2} - \\theta_{3} \\right)} \\right)}\\right)}\\mathbf{\\hat{c}_y} -  \\frac{l_{a} \\sin{\\left(- \\theta_{1} + \\theta_{2} + \\sin{\\left(\\theta_{2} - \\theta_{3} \\right)} \\right)} \\dot{\\theta}_{1}}{\\sin{\\left(\\sin{\\left(\\theta_{2} - \\theta_{3} \\right)} \\right)}}\\mathbf{\\hat{b}_y} + l_{a} \\dot{\\theta}_{1}\\mathbf{\\hat{a}_y}$"
      ],
      "text/plain": [
       "lₐ⋅(2⋅l_b⋅sin(θ₁ - θ₂) - 2⋅l_c⋅sin(-θ₁ + θ₂ + sin(θ₂ - θ₃)) - l_c⋅sin(-θ₁ + θ₃ ↪\n",
       "────────────────────────────────────────────────────────────────────────────── ↪\n",
       "                                     l_b⋅(sin(-θ₂ + θ₃ + sin(θ₂ - θ₃)) + sin(θ ↪\n",
       "\n",
       "↪  + sin(θ₂ - θ₃)) + l_c⋅sin(θ₁ - 2⋅θ₂ + θ₃ - sin(θ₂ - θ₃)))⋅θ₁̇       -lₐ⋅sin( ↪\n",
       "↪ ───────────────────────────────────────────────────────────── c_y + ──────── ↪\n",
       "↪ ₂ - θ₃ + sin(θ₂ - θ₃)))                                                      ↪\n",
       "\n",
       "↪ -θ₁ + θ₂ + sin(θ₂ - θ₃))⋅θ₁̇                 \n",
       "↪ ──────────────────────────── b_y + lₐ⋅θ₁̇ a_y\n",
       "↪  sin(sin(θ₂ - θ₃))                          "
      ]
     },
     "execution_count": 242,
     "metadata": {},
     "output_type": "execute_result"
    }
   ],
   "source": [
    "P4.vel(N).xreplace(qd_dep_repl)"
   ]
  },
  {
   "cell_type": "code",
   "execution_count": 243,
   "metadata": {},
   "outputs": [
    {
     "data": {
      "text/latex": [
       "$\\displaystyle \\left[\\begin{matrix}\\frac{l_{a} \\sin{\\left(- \\theta_{1} + \\theta_{2} + \\sin{\\left(\\theta_{2} - \\theta_{3} \\right)} \\right)} \\sin{\\left(\\theta_{2} \\right)} \\dot{\\theta}_{1}}{\\sin{\\left(\\sin{\\left(\\theta_{2} - \\theta_{3} \\right)} \\right)}} - l_{a} \\sin{\\left(\\theta_{1} \\right)} \\dot{\\theta}_{1} + \\frac{l_{a} \\left(- \\sin{\\left(\\sin{\\left(\\theta_{2} \\right)} \\cos{\\left(\\theta_{3} \\right)} - \\sin{\\left(\\theta_{3} \\right)} \\cos{\\left(\\theta_{2} \\right)} \\right)} \\cos{\\left(\\theta_{2} \\right)} - \\sin{\\left(\\theta_{2} \\right)} \\cos{\\left(\\sin{\\left(\\theta_{2} \\right)} \\cos{\\left(\\theta_{3} \\right)} - \\sin{\\left(\\theta_{3} \\right)} \\cos{\\left(\\theta_{2} \\right)} \\right)}\\right) \\left(2 l_{b} \\sin{\\left(\\theta_{1} - \\theta_{2} \\right)} - 2 l_{c} \\sin{\\left(- \\theta_{1} + \\theta_{2} + \\sin{\\left(\\theta_{2} - \\theta_{3} \\right)} \\right)} - l_{c} \\sin{\\left(- \\theta_{1} + \\theta_{3} + \\sin{\\left(\\theta_{2} - \\theta_{3} \\right)} \\right)} + l_{c} \\sin{\\left(\\theta_{1} - 2 \\theta_{2} + \\theta_{3} - \\sin{\\left(\\theta_{2} - \\theta_{3} \\right)} \\right)}\\right) \\dot{\\theta}_{1}}{l_{b} \\left(\\sin{\\left(- \\theta_{2} + \\theta_{3} + \\sin{\\left(\\theta_{2} - \\theta_{3} \\right)} \\right)} + \\sin{\\left(\\theta_{2} - \\theta_{3} + \\sin{\\left(\\theta_{2} - \\theta_{3} \\right)} \\right)}\\right)}\\\\- \\frac{l_{a} \\sin{\\left(- \\theta_{1} + \\theta_{2} + \\sin{\\left(\\theta_{2} - \\theta_{3} \\right)} \\right)} \\cos{\\left(\\theta_{2} \\right)} \\dot{\\theta}_{1}}{\\sin{\\left(\\sin{\\left(\\theta_{2} - \\theta_{3} \\right)} \\right)}} + l_{a} \\cos{\\left(\\theta_{1} \\right)} \\dot{\\theta}_{1} + \\frac{l_{a} \\left(- \\sin{\\left(\\sin{\\left(\\theta_{2} \\right)} \\cos{\\left(\\theta_{3} \\right)} - \\sin{\\left(\\theta_{3} \\right)} \\cos{\\left(\\theta_{2} \\right)} \\right)} \\sin{\\left(\\theta_{2} \\right)} + \\cos{\\left(\\sin{\\left(\\theta_{2} \\right)} \\cos{\\left(\\theta_{3} \\right)} - \\sin{\\left(\\theta_{3} \\right)} \\cos{\\left(\\theta_{2} \\right)} \\right)} \\cos{\\left(\\theta_{2} \\right)}\\right) \\left(2 l_{b} \\sin{\\left(\\theta_{1} - \\theta_{2} \\right)} - 2 l_{c} \\sin{\\left(- \\theta_{1} + \\theta_{2} + \\sin{\\left(\\theta_{2} - \\theta_{3} \\right)} \\right)} - l_{c} \\sin{\\left(- \\theta_{1} + \\theta_{3} + \\sin{\\left(\\theta_{2} - \\theta_{3} \\right)} \\right)} + l_{c} \\sin{\\left(\\theta_{1} - 2 \\theta_{2} + \\theta_{3} - \\sin{\\left(\\theta_{2} - \\theta_{3} \\right)} \\right)}\\right) \\dot{\\theta}_{1}}{l_{b} \\left(\\sin{\\left(- \\theta_{2} + \\theta_{3} + \\sin{\\left(\\theta_{2} - \\theta_{3} \\right)} \\right)} + \\sin{\\left(\\theta_{2} - \\theta_{3} + \\sin{\\left(\\theta_{2} - \\theta_{3} \\right)} \\right)}\\right)}\\\\0\\end{matrix}\\right]$"
      ],
      "text/plain": [
       "⎡ lₐ⋅sin(-θ₁ + θ₂ + sin(θ₂ - θ₃))⋅sin(θ₂)⋅θ₁̇                   lₐ⋅(-sin(sin(θ₂ ↪\n",
       "⎢ ────────────────────────────────────────── - lₐ⋅sin(θ₁)⋅θ₁̇ + ─────────────── ↪\n",
       "⎢             sin(sin(θ₂ - θ₃))                                                ↪\n",
       "⎢                                                                              ↪\n",
       "⎢  lₐ⋅sin(-θ₁ + θ₂ + sin(θ₂ - θ₃))⋅cos(θ₂)⋅θ₁̇                   lₐ⋅(-sin(sin(θ ↪\n",
       "⎢- ────────────────────────────────────────── + lₐ⋅cos(θ₁)⋅θ₁̇ + ────────────── ↪\n",
       "⎢              sin(sin(θ₂ - θ₃))                                               ↪\n",
       "⎢                                                                              ↪\n",
       "⎣                                                                              ↪\n",
       "\n",
       "↪ )⋅cos(θ₃) - sin(θ₃)⋅cos(θ₂))⋅cos(θ₂) - sin(θ₂)⋅cos(sin(θ₂)⋅cos(θ₃) - sin(θ₃) ↪\n",
       "↪ ──────────────────────────────────────────────────────────────────────────── ↪\n",
       "↪                                                                         l_b⋅ ↪\n",
       "↪                                                                              ↪\n",
       "↪ ₂)⋅cos(θ₃) - sin(θ₃)⋅cos(θ₂))⋅sin(θ₂) + cos(sin(θ₂)⋅cos(θ₃) - sin(θ₃)⋅cos(θ₂ ↪\n",
       "↪ ──────────────────────────────────────────────────────────────────────────── ↪\n",
       "↪                                                                          l_b ↪\n",
       "↪                                                                              ↪\n",
       "↪                                                                          0   ↪\n",
       "\n",
       "↪ ⋅cos(θ₂)))⋅(2⋅l_b⋅sin(θ₁ - θ₂) - 2⋅l_c⋅sin(-θ₁ + θ₂ + sin(θ₂ - θ₃)) - l_c⋅si ↪\n",
       "↪ ──────────────────────────────────────────────────────────────────────────── ↪\n",
       "↪ (sin(-θ₂ + θ₃ + sin(θ₂ - θ₃)) + sin(θ₂ - θ₃ + sin(θ₂ - θ₃)))                 ↪\n",
       "↪                                                                              ↪\n",
       "↪ ))⋅cos(θ₂))⋅(2⋅l_b⋅sin(θ₁ - θ₂) - 2⋅l_c⋅sin(-θ₁ + θ₂ + sin(θ₂ - θ₃)) - l_c⋅s ↪\n",
       "↪ ──────────────────────────────────────────────────────────────────────────── ↪\n",
       "↪ ⋅(sin(-θ₂ + θ₃ + sin(θ₂ - θ₃)) + sin(θ₂ - θ₃ + sin(θ₂ - θ₃)))                ↪\n",
       "↪                                                                              ↪\n",
       "↪                                                                              ↪\n",
       "\n",
       "↪ n(-θ₁ + θ₃ + sin(θ₂ - θ₃)) + l_c⋅sin(θ₁ - 2⋅θ₂ + θ₃ - sin(θ₂ - θ₃)))⋅θ₁̇ ⎤\n",
       "↪ ─────────────────────────────────────────────────────────────────────── ⎥\n",
       "↪                                                                         ⎥\n",
       "↪                                                                         ⎥\n",
       "↪ in(-θ₁ + θ₃ + sin(θ₂ - θ₃)) + l_c⋅sin(θ₁ - 2⋅θ₂ + θ₃ - sin(θ₂ - θ₃)))⋅θ₁̇⎥\n",
       "↪ ────────────────────────────────────────────────────────────────────────⎥\n",
       "↪                                                                         ⎥\n",
       "↪                                                                         ⎥\n",
       "↪                                                                         ⎦"
      ]
     },
     "execution_count": 243,
     "metadata": {},
     "output_type": "execute_result"
    }
   ],
   "source": [
    "P4.vel(N).to_matrix(N).xreplace(qd_dep_repl)"
   ]
  },
  {
   "cell_type": "code",
   "execution_count": 244,
   "metadata": {},
   "outputs": [
    {
     "data": {
      "text/latex": [
       "$\\displaystyle \\left\\{\\theta_{1}, \\theta_{2}, \\theta_{3}, \\dot{\\theta}_{1}\\right\\}$"
      ],
      "text/plain": [
       "{θ₁, θ₂, θ₃, θ₁̇}"
      ]
     },
     "execution_count": 244,
     "metadata": {},
     "output_type": "execute_result"
    }
   ],
   "source": [
    "P4.vel(N).xreplace(qd_dep_repl).free_dynamicsymbols(N)"
   ]
  },
  {
   "cell_type": "markdown",
   "metadata": {},
   "source": [
    "### Solve"
   ]
  },
  {
   "cell_type": "code",
   "execution_count": 245,
   "metadata": {},
   "outputs": [
    {
     "data": {
      "text/latex": [
       "$\\displaystyle \\left[\\begin{matrix}l_{a} \\cos{\\left(\\theta_{1} \\right)} + l_{b} \\cos{\\left(\\theta_{2} \\right)} + l_{c} \\cos{\\left(\\theta_{2} + \\sin{\\left(\\theta_{2} - \\theta_{3} \\right)} \\right)} - l_{n}\\\\l_{a} \\sin{\\left(\\theta_{1} \\right)} + l_{b} \\sin{\\left(\\theta_{2} \\right)} + l_{c} \\sin{\\left(\\theta_{2} + \\sin{\\left(\\theta_{2} - \\theta_{3} \\right)} \\right)}\\\\\\frac{l_{a} \\sin{\\left(- \\theta_{1} + \\theta_{2} + \\sin{\\left(\\theta_{2} - \\theta_{3} \\right)} \\right)} \\sin{\\left(\\theta_{2} \\right)} \\dot{\\theta}_{1}}{\\sin{\\left(\\sin{\\left(\\theta_{2} - \\theta_{3} \\right)} \\right)}} - l_{a} \\sin{\\left(\\theta_{1} \\right)} \\dot{\\theta}_{1} + \\frac{l_{a} \\left(- \\sin{\\left(\\sin{\\left(\\theta_{2} \\right)} \\cos{\\left(\\theta_{3} \\right)} - \\sin{\\left(\\theta_{3} \\right)} \\cos{\\left(\\theta_{2} \\right)} \\right)} \\cos{\\left(\\theta_{2} \\right)} - \\sin{\\left(\\theta_{2} \\right)} \\cos{\\left(\\sin{\\left(\\theta_{2} \\right)} \\cos{\\left(\\theta_{3} \\right)} - \\sin{\\left(\\theta_{3} \\right)} \\cos{\\left(\\theta_{2} \\right)} \\right)}\\right) \\left(2 l_{b} \\sin{\\left(\\theta_{1} - \\theta_{2} \\right)} - 2 l_{c} \\sin{\\left(- \\theta_{1} + \\theta_{2} + \\sin{\\left(\\theta_{2} - \\theta_{3} \\right)} \\right)} - l_{c} \\sin{\\left(- \\theta_{1} + \\theta_{3} + \\sin{\\left(\\theta_{2} - \\theta_{3} \\right)} \\right)} + l_{c} \\sin{\\left(\\theta_{1} - 2 \\theta_{2} + \\theta_{3} - \\sin{\\left(\\theta_{2} - \\theta_{3} \\right)} \\right)}\\right) \\dot{\\theta}_{1}}{l_{b} \\left(\\sin{\\left(- \\theta_{2} + \\theta_{3} + \\sin{\\left(\\theta_{2} - \\theta_{3} \\right)} \\right)} + \\sin{\\left(\\theta_{2} - \\theta_{3} + \\sin{\\left(\\theta_{2} - \\theta_{3} \\right)} \\right)}\\right)}\\\\- \\frac{l_{a} \\sin{\\left(- \\theta_{1} + \\theta_{2} + \\sin{\\left(\\theta_{2} - \\theta_{3} \\right)} \\right)} \\cos{\\left(\\theta_{2} \\right)} \\dot{\\theta}_{1}}{\\sin{\\left(\\sin{\\left(\\theta_{2} - \\theta_{3} \\right)} \\right)}} + l_{a} \\cos{\\left(\\theta_{1} \\right)} \\dot{\\theta}_{1} + \\frac{l_{a} \\left(- \\sin{\\left(\\sin{\\left(\\theta_{2} \\right)} \\cos{\\left(\\theta_{3} \\right)} - \\sin{\\left(\\theta_{3} \\right)} \\cos{\\left(\\theta_{2} \\right)} \\right)} \\sin{\\left(\\theta_{2} \\right)} + \\cos{\\left(\\sin{\\left(\\theta_{2} \\right)} \\cos{\\left(\\theta_{3} \\right)} - \\sin{\\left(\\theta_{3} \\right)} \\cos{\\left(\\theta_{2} \\right)} \\right)} \\cos{\\left(\\theta_{2} \\right)}\\right) \\left(2 l_{b} \\sin{\\left(\\theta_{1} - \\theta_{2} \\right)} - 2 l_{c} \\sin{\\left(- \\theta_{1} + \\theta_{2} + \\sin{\\left(\\theta_{2} - \\theta_{3} \\right)} \\right)} - l_{c} \\sin{\\left(- \\theta_{1} + \\theta_{3} + \\sin{\\left(\\theta_{2} - \\theta_{3} \\right)} \\right)} + l_{c} \\sin{\\left(\\theta_{1} - 2 \\theta_{2} + \\theta_{3} - \\sin{\\left(\\theta_{2} - \\theta_{3} \\right)} \\right)}\\right) \\dot{\\theta}_{1}}{l_{b} \\left(\\sin{\\left(- \\theta_{2} + \\theta_{3} + \\sin{\\left(\\theta_{2} - \\theta_{3} \\right)} \\right)} + \\sin{\\left(\\theta_{2} - \\theta_{3} + \\sin{\\left(\\theta_{2} - \\theta_{3} \\right)} \\right)}\\right)}\\end{matrix}\\right]$"
      ],
      "text/plain": [
       "⎡                                                                              ↪\n",
       "⎢                                                                              ↪\n",
       "⎢                                                                              ↪\n",
       "⎢                                                                              ↪\n",
       "⎢ lₐ⋅sin(-θ₁ + θ₂ + sin(θ₂ - θ₃))⋅sin(θ₂)⋅θ₁̇                   lₐ⋅(-sin(sin(θ₂ ↪\n",
       "⎢ ────────────────────────────────────────── - lₐ⋅sin(θ₁)⋅θ₁̇ + ─────────────── ↪\n",
       "⎢             sin(sin(θ₂ - θ₃))                                                ↪\n",
       "⎢                                                                              ↪\n",
       "⎢  lₐ⋅sin(-θ₁ + θ₂ + sin(θ₂ - θ₃))⋅cos(θ₂)⋅θ₁̇                   lₐ⋅(-sin(sin(θ ↪\n",
       "⎢- ────────────────────────────────────────── + lₐ⋅cos(θ₁)⋅θ₁̇ + ────────────── ↪\n",
       "⎣              sin(sin(θ₂ - θ₃))                                               ↪\n",
       "\n",
       "↪                                             lₐ⋅cos(θ₁) + l_b⋅cos(θ₂) + l_c⋅c ↪\n",
       "↪                                                                              ↪\n",
       "↪                                                lₐ⋅sin(θ₁) + l_b⋅sin(θ₂) + l_ ↪\n",
       "↪                                                                              ↪\n",
       "↪ )⋅cos(θ₃) - sin(θ₃)⋅cos(θ₂))⋅cos(θ₂) - sin(θ₂)⋅cos(sin(θ₂)⋅cos(θ₃) - sin(θ₃) ↪\n",
       "↪ ──────────────────────────────────────────────────────────────────────────── ↪\n",
       "↪                                                                         l_b⋅ ↪\n",
       "↪                                                                              ↪\n",
       "↪ ₂)⋅cos(θ₃) - sin(θ₃)⋅cos(θ₂))⋅sin(θ₂) + cos(sin(θ₂)⋅cos(θ₃) - sin(θ₃)⋅cos(θ₂ ↪\n",
       "↪ ──────────────────────────────────────────────────────────────────────────── ↪\n",
       "↪                                                                          l_b ↪\n",
       "\n",
       "↪ os(θ₂ + sin(θ₂ - θ₃)) - lₙ                                                   ↪\n",
       "↪                                                                              ↪\n",
       "↪ c⋅sin(θ₂ + sin(θ₂ - θ₃))                                                     ↪\n",
       "↪                                                                              ↪\n",
       "↪ ⋅cos(θ₂)))⋅(2⋅l_b⋅sin(θ₁ - θ₂) - 2⋅l_c⋅sin(-θ₁ + θ₂ + sin(θ₂ - θ₃)) - l_c⋅si ↪\n",
       "↪ ──────────────────────────────────────────────────────────────────────────── ↪\n",
       "↪ (sin(-θ₂ + θ₃ + sin(θ₂ - θ₃)) + sin(θ₂ - θ₃ + sin(θ₂ - θ₃)))                 ↪\n",
       "↪                                                                              ↪\n",
       "↪ ))⋅cos(θ₂))⋅(2⋅l_b⋅sin(θ₁ - θ₂) - 2⋅l_c⋅sin(-θ₁ + θ₂ + sin(θ₂ - θ₃)) - l_c⋅s ↪\n",
       "↪ ──────────────────────────────────────────────────────────────────────────── ↪\n",
       "↪ ⋅(sin(-θ₂ + θ₃ + sin(θ₂ - θ₃)) + sin(θ₂ - θ₃ + sin(θ₂ - θ₃)))                ↪\n",
       "\n",
       "↪                                                                         ⎤\n",
       "↪                                                                         ⎥\n",
       "↪                                                                         ⎥\n",
       "↪                                                                         ⎥\n",
       "↪ n(-θ₁ + θ₃ + sin(θ₂ - θ₃)) + l_c⋅sin(θ₁ - 2⋅θ₂ + θ₃ - sin(θ₂ - θ₃)))⋅θ₁̇ ⎥\n",
       "↪ ─────────────────────────────────────────────────────────────────────── ⎥\n",
       "↪                                                                         ⎥\n",
       "↪                                                                         ⎥\n",
       "↪ in(-θ₁ + θ₃ + sin(θ₂ - θ₃)) + l_c⋅sin(θ₁ - 2⋅θ₂ + θ₃ - sin(θ₂ - θ₃)))⋅θ₁̇⎥\n",
       "↪ ────────────────────────────────────────────────────────────────────────⎥\n",
       "↪                                                                         ⎦"
      ]
     },
     "execution_count": 245,
     "metadata": {},
     "output_type": "execute_result"
    }
   ],
   "source": [
    "fhdt = sp.Matrix(P4.vel(N).xreplace(qd_dep_repl).to_matrix(N)[:2])\n",
    "fhd = sp.Matrix([fhx, fhy, fhdt])\n",
    "# fh = sp.trigsimp(fh) # warning, this simplification is slow and may not be necessary\n",
    "fhd"
   ]
  },
  {
   "cell_type": "code",
   "execution_count": 246,
   "metadata": {},
   "outputs": [
    {
     "data": {
      "text/latex": [
       "$\\displaystyle \\left\\{ l_{a} : 1.0, \\  l_{b} : 4.0, \\  l_{c} : 3.0, \\  l_{n} : 5.0, \\  \\theta_{1} : 0.523598775598299, \\  \\dot{\\theta}_{1} : 1.0\\right\\}$"
      ],
      "text/plain": [
       "{lₐ: 1.0, l_b: 4.0, l_c: 3.0, lₙ: 5.0, θ₁: 0.5235987755982988, θ₁̇: 1.0}"
      ]
     },
     "execution_count": 246,
     "metadata": {},
     "output_type": "execute_result"
    }
   ],
   "source": [
    "import math  # provides pi as a float\n",
    "\n",
    "repl = {\n",
    "    l_a: 1.0,\n",
    "    l_b: 4.0,\n",
    "    l_c: 3.0,\n",
    "    l_n: 5.0,\n",
    "    theta_1: 30.0/180.0*math.pi,  # 30 degrees in radians\n",
    "    theta_1.diff(t): 1.0,\n",
    "    # omega_1: 1.0,\n",
    "    # omega_2: 2.0,\n",
    "}\n",
    "repl"
   ]
  },
  {
   "cell_type": "code",
   "execution_count": 247,
   "metadata": {},
   "outputs": [
    {
     "data": {
      "text/latex": [
       "$\\displaystyle \\left[\\begin{matrix}3.0 \\cos{\\left(\\theta_{2} + \\sin{\\left(\\theta_{2} - \\theta_{3} \\right)} \\right)} + 4.0 \\cos{\\left(\\theta_{2} \\right)} - 4.13397459621556\\\\3.0 \\sin{\\left(\\theta_{2} + \\sin{\\left(\\theta_{2} - \\theta_{3} \\right)} \\right)} + 4.0 \\sin{\\left(\\theta_{2} \\right)} + 0.5\\\\\\frac{0.25 \\left(- \\sin{\\left(\\sin{\\left(\\theta_{2} \\right)} \\cos{\\left(\\theta_{3} \\right)} - \\sin{\\left(\\theta_{3} \\right)} \\cos{\\left(\\theta_{2} \\right)} \\right)} \\cos{\\left(\\theta_{2} \\right)} - \\sin{\\left(\\theta_{2} \\right)} \\cos{\\left(\\sin{\\left(\\theta_{2} \\right)} \\cos{\\left(\\theta_{3} \\right)} - \\sin{\\left(\\theta_{3} \\right)} \\cos{\\left(\\theta_{2} \\right)} \\right)}\\right) \\left(- 8.0 \\sin{\\left(\\theta_{2} - 0.523598775598299 \\right)} - 6.0 \\sin{\\left(\\theta_{2} + \\sin{\\left(\\theta_{2} - \\theta_{3} \\right)} - 0.523598775598299 \\right)} - 3.0 \\sin{\\left(\\theta_{3} + \\sin{\\left(\\theta_{2} - \\theta_{3} \\right)} - 0.523598775598299 \\right)} - 3.0 \\sin{\\left(2 \\theta_{2} - \\theta_{3} + \\sin{\\left(\\theta_{2} - \\theta_{3} \\right)} - 0.523598775598299 \\right)}\\right)}{\\sin{\\left(- \\theta_{2} + \\theta_{3} + \\sin{\\left(\\theta_{2} - \\theta_{3} \\right)} \\right)} + \\sin{\\left(\\theta_{2} - \\theta_{3} + \\sin{\\left(\\theta_{2} - \\theta_{3} \\right)} \\right)}} + \\frac{1.0 \\sin{\\left(\\theta_{2} + \\sin{\\left(\\theta_{2} - \\theta_{3} \\right)} - 0.523598775598299 \\right)} \\sin{\\left(\\theta_{2} \\right)}}{\\sin{\\left(\\sin{\\left(\\theta_{2} - \\theta_{3} \\right)} \\right)}} - 0.5\\\\\\frac{0.25 \\left(- \\sin{\\left(\\sin{\\left(\\theta_{2} \\right)} \\cos{\\left(\\theta_{3} \\right)} - \\sin{\\left(\\theta_{3} \\right)} \\cos{\\left(\\theta_{2} \\right)} \\right)} \\sin{\\left(\\theta_{2} \\right)} + \\cos{\\left(\\sin{\\left(\\theta_{2} \\right)} \\cos{\\left(\\theta_{3} \\right)} - \\sin{\\left(\\theta_{3} \\right)} \\cos{\\left(\\theta_{2} \\right)} \\right)} \\cos{\\left(\\theta_{2} \\right)}\\right) \\left(- 8.0 \\sin{\\left(\\theta_{2} - 0.523598775598299 \\right)} - 6.0 \\sin{\\left(\\theta_{2} + \\sin{\\left(\\theta_{2} - \\theta_{3} \\right)} - 0.523598775598299 \\right)} - 3.0 \\sin{\\left(\\theta_{3} + \\sin{\\left(\\theta_{2} - \\theta_{3} \\right)} - 0.523598775598299 \\right)} - 3.0 \\sin{\\left(2 \\theta_{2} - \\theta_{3} + \\sin{\\left(\\theta_{2} - \\theta_{3} \\right)} - 0.523598775598299 \\right)}\\right)}{\\sin{\\left(- \\theta_{2} + \\theta_{3} + \\sin{\\left(\\theta_{2} - \\theta_{3} \\right)} \\right)} + \\sin{\\left(\\theta_{2} - \\theta_{3} + \\sin{\\left(\\theta_{2} - \\theta_{3} \\right)} \\right)}} - \\frac{1.0 \\sin{\\left(\\theta_{2} + \\sin{\\left(\\theta_{2} - \\theta_{3} \\right)} - 0.523598775598299 \\right)} \\cos{\\left(\\theta_{2} \\right)}}{\\sin{\\left(\\sin{\\left(\\theta_{2} - \\theta_{3} \\right)} \\right)}} + 0.866025403784439\\end{matrix}\\right]$"
      ],
      "text/plain": [
       "⎡                                                                              ↪\n",
       "⎢                                                                              ↪\n",
       "⎢                                                                              ↪\n",
       "⎢                                                                              ↪\n",
       "⎢       0.25⋅(-sin(sin(θ₂)⋅cos(θ₃) - sin(θ₃)⋅cos(θ₂))⋅cos(θ₂) - sin(θ₂)⋅cos(si ↪\n",
       "⎢       ────────────────────────────────────────────────────────────────────── ↪\n",
       "⎢                                                                              ↪\n",
       "⎢                                                                              ↪\n",
       "⎢0.25⋅(-sin(sin(θ₂)⋅cos(θ₃) - sin(θ₃)⋅cos(θ₂))⋅sin(θ₂) + cos(sin(θ₂)⋅cos(θ₃) - ↪\n",
       "⎢───────────────────────────────────────────────────────────────────────────── ↪\n",
       "⎣                                                                              ↪\n",
       "\n",
       "↪                                                                              ↪\n",
       "↪                                                                              ↪\n",
       "↪                                                                              ↪\n",
       "↪                                                                              ↪\n",
       "↪ n(θ₂)⋅cos(θ₃) - sin(θ₃)⋅cos(θ₂)))⋅(-8.0⋅sin(θ₂ - 0.523598775598299) - 6.0⋅si ↪\n",
       "↪ ──────────────────────────────────────────────────────────────────────────── ↪\n",
       "↪                                                sin(-θ₂ + θ₃ + sin(θ₂ - θ₃))  ↪\n",
       "↪                                                                              ↪\n",
       "↪  sin(θ₃)⋅cos(θ₂))⋅cos(θ₂))⋅(-8.0⋅sin(θ₂ - 0.523598775598299) - 6.0⋅sin(θ₂ +  ↪\n",
       "↪ ──────────────────────────────────────────────────────────────────────────── ↪\n",
       "↪                                         sin(-θ₂ + θ₃ + sin(θ₂ - θ₃)) + sin(θ ↪\n",
       "\n",
       "↪   3.0⋅cos(θ₂ + sin(θ₂ - θ₃)) + 4.0⋅cos(θ₂) - 4.13397459621556                ↪\n",
       "↪                                                                              ↪\n",
       "↪         3.0⋅sin(θ₂ + sin(θ₂ - θ₃)) + 4.0⋅sin(θ₂) + 0.5                       ↪\n",
       "↪                                                                              ↪\n",
       "↪ n(θ₂ + sin(θ₂ - θ₃) - 0.523598775598299) - 3.0⋅sin(θ₃ + sin(θ₂ - θ₃) - 0.523 ↪\n",
       "↪ ──────────────────────────────────────────────────────────────────────────── ↪\n",
       "↪ + sin(θ₂ - θ₃ + sin(θ₂ - θ₃))                                                ↪\n",
       "↪                                                                              ↪\n",
       "↪ sin(θ₂ - θ₃) - 0.523598775598299) - 3.0⋅sin(θ₃ + sin(θ₂ - θ₃) - 0.5235987755 ↪\n",
       "↪ ──────────────────────────────────────────────────────────────────────────── ↪\n",
       "↪ ₂ - θ₃ + sin(θ₂ - θ₃))                                                       ↪\n",
       "\n",
       "↪                                                                              ↪\n",
       "↪                                                                              ↪\n",
       "↪                                                                              ↪\n",
       "↪                                                                              ↪\n",
       "↪ 598775598299) - 3.0⋅sin(2⋅θ₂ - θ₃ + sin(θ₂ - θ₃) - 0.523598775598299))   1.0 ↪\n",
       "↪ ────────────────────────────────────────────────────────────────────── + ─── ↪\n",
       "↪                                                                              ↪\n",
       "↪                                                                              ↪\n",
       "↪ 98299) - 3.0⋅sin(2⋅θ₂ - θ₃ + sin(θ₂ - θ₃) - 0.523598775598299))   1.0⋅sin(θ₂ ↪\n",
       "↪ ─────────────────────────────────────────────────────────────── - ────────── ↪\n",
       "↪                                                                              ↪\n",
       "\n",
       "↪                                                                 ⎤\n",
       "↪                                                                 ⎥\n",
       "↪                                                                 ⎥\n",
       "↪                                                                 ⎥\n",
       "↪ ⋅sin(θ₂ + sin(θ₂ - θ₃) - 0.523598775598299)⋅sin(θ₂)             ⎥\n",
       "↪ ─────────────────────────────────────────────────── - 0.5       ⎥\n",
       "↪                sin(sin(θ₂ - θ₃))                                ⎥\n",
       "↪                                                                 ⎥\n",
       "↪  + sin(θ₂ - θ₃) - 0.523598775598299)⋅cos(θ₂)                    ⎥\n",
       "↪ ──────────────────────────────────────────── + 0.866025403784439⎥\n",
       "↪         sin(sin(θ₂ - θ₃))                                       ⎦"
      ]
     },
     "execution_count": 247,
     "metadata": {},
     "output_type": "execute_result"
    }
   ],
   "source": [
    "fhd.xreplace(repl)"
   ]
  },
  {
   "cell_type": "code",
   "execution_count": null,
   "metadata": {},
   "outputs": [
    {
     "ename": "ValueError",
     "evalue": "matrix is not positive-definite",
     "output_type": "error",
     "traceback": [
      "\u001b[1;31m---------------------------------------------------------------------------\u001b[0m",
      "\u001b[1;31mValueError\u001b[0m                                Traceback (most recent call last)",
      "Cell \u001b[1;32mIn[248], line 6\u001b[0m\n\u001b[0;32m      3\u001b[0m \u001b[38;5;66;03m# omega_3_guess = 1.0\u001b[39;00m\n\u001b[0;32m      4\u001b[0m theta_1_diff_guess \u001b[38;5;241m=\u001b[39m \u001b[38;5;241m1.0\u001b[39m\n\u001b[1;32m----> 6\u001b[0m sol \u001b[38;5;241m=\u001b[39m \u001b[43msp\u001b[49m\u001b[38;5;241;43m.\u001b[39;49m\u001b[43mnsolve\u001b[49m\u001b[43m(\u001b[49m\u001b[43mfhd\u001b[49m\u001b[38;5;241;43m.\u001b[39;49m\u001b[43mxreplace\u001b[49m\u001b[43m(\u001b[49m\u001b[43mrepl\u001b[49m\u001b[43m)\u001b[49m\u001b[43m,\u001b[49m\u001b[43m \u001b[49m\u001b[43m(\u001b[49m\u001b[43mtheta_2\u001b[49m\u001b[43m,\u001b[49m\u001b[43m \u001b[49m\u001b[43mtheta_3\u001b[49m\u001b[43m,\u001b[49m\u001b[43m \u001b[49m\u001b[43mtheta_1\u001b[49m\u001b[38;5;241;43m.\u001b[39;49m\u001b[43mdiff\u001b[49m\u001b[43m(\u001b[49m\u001b[43mt\u001b[49m\u001b[43m)\u001b[49m\u001b[43m)\u001b[49m\u001b[43m,\u001b[49m\u001b[43m \u001b[49m\u001b[43m(\u001b[49m\u001b[43mtheta_2_guess\u001b[49m\u001b[43m,\u001b[49m\u001b[43m \u001b[49m\u001b[43mtheta_3_guess\u001b[49m\u001b[43m,\u001b[49m\u001b[43m \u001b[49m\u001b[43mtheta_1_diff_guess\u001b[49m\u001b[43m)\u001b[49m\u001b[43m)\u001b[49m\n\u001b[0;32m      7\u001b[0m sol\u001b[38;5;241m/\u001b[39mmath\u001b[38;5;241m.\u001b[39mpi\u001b[38;5;241m*\u001b[39m\u001b[38;5;241m180.0\u001b[39m  \u001b[38;5;66;03m# to degrees\u001b[39;00m\n",
      "File \u001b[1;32mc:\\Users\\phcre\\Documents\\Python\\cvt_beltless_mechanics\\.venv\\Lib\\site-packages\\sympy\\utilities\\decorator.py:87\u001b[0m, in \u001b[0;36mconserve_mpmath_dps.<locals>.func_wrapper\u001b[1;34m(*args, **kwargs)\u001b[0m\n\u001b[0;32m     85\u001b[0m dps \u001b[38;5;241m=\u001b[39m mpmath\u001b[38;5;241m.\u001b[39mmp\u001b[38;5;241m.\u001b[39mdps\n\u001b[0;32m     86\u001b[0m \u001b[38;5;28;01mtry\u001b[39;00m:\n\u001b[1;32m---> 87\u001b[0m     \u001b[38;5;28;01mreturn\u001b[39;00m \u001b[43mfunc\u001b[49m\u001b[43m(\u001b[49m\u001b[38;5;241;43m*\u001b[39;49m\u001b[43margs\u001b[49m\u001b[43m,\u001b[49m\u001b[43m \u001b[49m\u001b[38;5;241;43m*\u001b[39;49m\u001b[38;5;241;43m*\u001b[39;49m\u001b[43mkwargs\u001b[49m\u001b[43m)\u001b[49m\n\u001b[0;32m     88\u001b[0m \u001b[38;5;28;01mfinally\u001b[39;00m:\n\u001b[0;32m     89\u001b[0m     mpmath\u001b[38;5;241m.\u001b[39mmp\u001b[38;5;241m.\u001b[39mdps \u001b[38;5;241m=\u001b[39m dps\n",
      "File \u001b[1;32mc:\\Users\\phcre\\Documents\\Python\\cvt_beltless_mechanics\\.venv\\Lib\\site-packages\\sympy\\solvers\\solvers.py:3104\u001b[0m, in \u001b[0;36mnsolve\u001b[1;34m(dict, *args, **kwargs)\u001b[0m\n\u001b[0;32m   3102\u001b[0m J \u001b[38;5;241m=\u001b[39m lambdify(fargs, J, modules)\n\u001b[0;32m   3103\u001b[0m \u001b[38;5;66;03m# solve the system numerically\u001b[39;00m\n\u001b[1;32m-> 3104\u001b[0m x \u001b[38;5;241m=\u001b[39m \u001b[43mfindroot\u001b[49m\u001b[43m(\u001b[49m\u001b[43mf\u001b[49m\u001b[43m,\u001b[49m\u001b[43m \u001b[49m\u001b[43mx0\u001b[49m\u001b[43m,\u001b[49m\u001b[43m \u001b[49m\u001b[43mJ\u001b[49m\u001b[38;5;241;43m=\u001b[39;49m\u001b[43mJ\u001b[49m\u001b[43m,\u001b[49m\u001b[43m \u001b[49m\u001b[38;5;241;43m*\u001b[39;49m\u001b[38;5;241;43m*\u001b[39;49m\u001b[43mkwargs\u001b[49m\u001b[43m)\u001b[49m\n\u001b[0;32m   3105\u001b[0m \u001b[38;5;28;01mif\u001b[39;00m as_dict:\n\u001b[0;32m   3106\u001b[0m     \u001b[38;5;28;01mreturn\u001b[39;00m [\u001b[38;5;28mdict\u001b[39m(\u001b[38;5;28mzip\u001b[39m(fargs, [sympify(xi) \u001b[38;5;28;01mfor\u001b[39;00m xi \u001b[38;5;129;01min\u001b[39;00m x]))]\n",
      "File \u001b[1;32mc:\\Users\\phcre\\Documents\\Python\\cvt_beltless_mechanics\\.venv\\Lib\\site-packages\\mpmath\\calculus\\optimization.py:969\u001b[0m, in \u001b[0;36mfindroot\u001b[1;34m(ctx, f, x0, solver, tol, verbose, verify, **kwargs)\u001b[0m\n\u001b[0;32m    967\u001b[0m     maxsteps \u001b[38;5;241m=\u001b[39m iterations\u001b[38;5;241m.\u001b[39mmaxsteps\n\u001b[0;32m    968\u001b[0m i \u001b[38;5;241m=\u001b[39m \u001b[38;5;241m0\u001b[39m\n\u001b[1;32m--> 969\u001b[0m \u001b[43m\u001b[49m\u001b[38;5;28;43;01mfor\u001b[39;49;00m\u001b[43m \u001b[49m\u001b[43mx\u001b[49m\u001b[43m,\u001b[49m\u001b[43m \u001b[49m\u001b[43merror\u001b[49m\u001b[43m \u001b[49m\u001b[38;5;129;43;01min\u001b[39;49;00m\u001b[43m \u001b[49m\u001b[43miterations\u001b[49m\u001b[43m:\u001b[49m\n\u001b[0;32m    970\u001b[0m \u001b[43m    \u001b[49m\u001b[38;5;28;43;01mif\u001b[39;49;00m\u001b[43m \u001b[49m\u001b[43mverbose\u001b[49m\u001b[43m:\u001b[49m\n\u001b[0;32m    971\u001b[0m \u001b[43m        \u001b[49m\u001b[38;5;28;43mprint\u001b[39;49m\u001b[43m(\u001b[49m\u001b[38;5;124;43m'\u001b[39;49m\u001b[38;5;124;43mx:    \u001b[39;49m\u001b[38;5;124;43m'\u001b[39;49m\u001b[43m,\u001b[49m\u001b[43m \u001b[49m\u001b[43mx\u001b[49m\u001b[43m)\u001b[49m\n",
      "File \u001b[1;32mc:\\Users\\phcre\\Documents\\Python\\cvt_beltless_mechanics\\.venv\\Lib\\site-packages\\mpmath\\calculus\\optimization.py:660\u001b[0m, in \u001b[0;36mMDNewton.__iter__\u001b[1;34m(self)\u001b[0m\n\u001b[0;32m    658\u001b[0m fxn \u001b[38;5;241m=\u001b[39m \u001b[38;5;241m-\u001b[39mfx\n\u001b[0;32m    659\u001b[0m Jx \u001b[38;5;241m=\u001b[39m J(\u001b[38;5;241m*\u001b[39mx0)\n\u001b[1;32m--> 660\u001b[0m s \u001b[38;5;241m=\u001b[39m \u001b[38;5;28;43mself\u001b[39;49m\u001b[38;5;241;43m.\u001b[39;49m\u001b[43mctx\u001b[49m\u001b[38;5;241;43m.\u001b[39;49m\u001b[43mlu_solve\u001b[49m\u001b[43m(\u001b[49m\u001b[43mJx\u001b[49m\u001b[43m,\u001b[49m\u001b[43m \u001b[49m\u001b[43mfxn\u001b[49m\u001b[43m)\u001b[49m\n\u001b[0;32m    661\u001b[0m \u001b[38;5;28;01mif\u001b[39;00m \u001b[38;5;28mself\u001b[39m\u001b[38;5;241m.\u001b[39mverbose:\n\u001b[0;32m    662\u001b[0m     \u001b[38;5;28mprint\u001b[39m(\u001b[38;5;124m'\u001b[39m\u001b[38;5;124mJx:\u001b[39m\u001b[38;5;124m'\u001b[39m)\n",
      "File \u001b[1;32mc:\\Users\\phcre\\Documents\\Python\\cvt_beltless_mechanics\\.venv\\Lib\\site-packages\\mpmath\\matrices\\linalg.py:219\u001b[0m, in \u001b[0;36mLinearAlgebraMethods.lu_solve\u001b[1;34m(ctx, A, b, **kwargs)\u001b[0m\n\u001b[0;32m    215\u001b[0m b \u001b[38;5;241m=\u001b[39m AH \u001b[38;5;241m*\u001b[39m b\n\u001b[0;32m    216\u001b[0m \u001b[38;5;28;01mif\u001b[39;00m (kwargs\u001b[38;5;241m.\u001b[39mget(\u001b[38;5;124m'\u001b[39m\u001b[38;5;124mreal\u001b[39m\u001b[38;5;124m'\u001b[39m, \u001b[38;5;28;01mFalse\u001b[39;00m) \u001b[38;5;129;01mor\u001b[39;00m\n\u001b[0;32m    217\u001b[0m     \u001b[38;5;129;01mnot\u001b[39;00m \u001b[38;5;28msum\u001b[39m(\u001b[38;5;28mtype\u001b[39m(i) \u001b[38;5;129;01mis\u001b[39;00m ctx\u001b[38;5;241m.\u001b[39mmpc \u001b[38;5;28;01mfor\u001b[39;00m i \u001b[38;5;129;01min\u001b[39;00m A)):\n\u001b[0;32m    218\u001b[0m     \u001b[38;5;66;03m# TODO: necessary to check also b?\u001b[39;00m\n\u001b[1;32m--> 219\u001b[0m     x \u001b[38;5;241m=\u001b[39m \u001b[43mctx\u001b[49m\u001b[38;5;241;43m.\u001b[39;49m\u001b[43mcholesky_solve\u001b[49m\u001b[43m(\u001b[49m\u001b[43mA\u001b[49m\u001b[43m,\u001b[49m\u001b[43m \u001b[49m\u001b[43mb\u001b[49m\u001b[43m)\u001b[49m\n\u001b[0;32m    220\u001b[0m \u001b[38;5;28;01melse\u001b[39;00m:\n\u001b[0;32m    221\u001b[0m     x \u001b[38;5;241m=\u001b[39m ctx\u001b[38;5;241m.\u001b[39mlu_solve(A, b)\n",
      "File \u001b[1;32mc:\\Users\\phcre\\Documents\\Python\\cvt_beltless_mechanics\\.venv\\Lib\\site-packages\\mpmath\\matrices\\linalg.py:522\u001b[0m, in \u001b[0;36mLinearAlgebraMethods.cholesky_solve\u001b[1;34m(ctx, A, b, **kwargs)\u001b[0m\n\u001b[0;32m    520\u001b[0m     \u001b[38;5;28;01mraise\u001b[39;00m \u001b[38;5;167;01mValueError\u001b[39;00m(\u001b[38;5;124m'\u001b[39m\u001b[38;5;124mcan only solve determined system\u001b[39m\u001b[38;5;124m'\u001b[39m)\n\u001b[0;32m    521\u001b[0m \u001b[38;5;66;03m# Cholesky factorization\u001b[39;00m\n\u001b[1;32m--> 522\u001b[0m L \u001b[38;5;241m=\u001b[39m \u001b[43mctx\u001b[49m\u001b[38;5;241;43m.\u001b[39;49m\u001b[43mcholesky\u001b[49m\u001b[43m(\u001b[49m\u001b[43mA\u001b[49m\u001b[43m)\u001b[49m\n\u001b[0;32m    523\u001b[0m \u001b[38;5;66;03m# solve\u001b[39;00m\n\u001b[0;32m    524\u001b[0m n \u001b[38;5;241m=\u001b[39m L\u001b[38;5;241m.\u001b[39mrows\n",
      "File \u001b[1;32mc:\\Users\\phcre\\Documents\\Python\\cvt_beltless_mechanics\\.venv\\Lib\\site-packages\\mpmath\\matrices\\linalg.py:493\u001b[0m, in \u001b[0;36mLinearAlgebraMethods.cholesky\u001b[1;34m(ctx, A, tol)\u001b[0m\n\u001b[0;32m    490\u001b[0m s \u001b[38;5;241m=\u001b[39m c \u001b[38;5;241m-\u001b[39m ctx\u001b[38;5;241m.\u001b[39mfsum((L[j,k] \u001b[38;5;28;01mfor\u001b[39;00m k \u001b[38;5;129;01min\u001b[39;00m xrange(j)),\n\u001b[0;32m    491\u001b[0m     absolute\u001b[38;5;241m=\u001b[39m\u001b[38;5;28;01mTrue\u001b[39;00m, squared\u001b[38;5;241m=\u001b[39m\u001b[38;5;28;01mTrue\u001b[39;00m)\n\u001b[0;32m    492\u001b[0m \u001b[38;5;28;01mif\u001b[39;00m s \u001b[38;5;241m<\u001b[39m tol:\n\u001b[1;32m--> 493\u001b[0m     \u001b[38;5;28;01mraise\u001b[39;00m \u001b[38;5;167;01mValueError\u001b[39;00m(\u001b[38;5;124m'\u001b[39m\u001b[38;5;124mmatrix is not positive-definite\u001b[39m\u001b[38;5;124m'\u001b[39m)\n\u001b[0;32m    494\u001b[0m L[j,j] \u001b[38;5;241m=\u001b[39m ctx\u001b[38;5;241m.\u001b[39msqrt(s)\n\u001b[0;32m    495\u001b[0m \u001b[38;5;28;01mfor\u001b[39;00m i \u001b[38;5;129;01min\u001b[39;00m xrange(j, n):\n",
      "\u001b[1;31mValueError\u001b[0m: matrix is not positive-definite"
     ]
    }
   ],
   "source": [
    "theta_2_guess = -75.0/180.0*math.pi  # -75 degrees in radians\n",
    "theta_3_guess = 100.0/180.0*math.pi  # 100 degrees in radians\n",
    "# omega_3_guess = 1.0\n",
    "theta_1_diff_guess = 1.0\n",
    "\n",
    "sol = sp.nsolve(fhd.xreplace(repl), (theta_2, theta_3, theta_1.diff(t)), (theta_2_guess, theta_3_guess, theta_1_diff_guess))\n",
    "sol/math.pi*180.0  # to degrees"
   ]
  }
 ],
 "metadata": {
  "kernelspec": {
   "display_name": ".venv",
   "language": "python",
   "name": "python3"
  },
  "language_info": {
   "codemirror_mode": {
    "name": "ipython",
    "version": 3
   },
   "file_extension": ".py",
   "mimetype": "text/x-python",
   "name": "python",
   "nbconvert_exporter": "python",
   "pygments_lexer": "ipython3",
   "version": "3.12.7"
  }
 },
 "nbformat": 4,
 "nbformat_minor": 2
}
